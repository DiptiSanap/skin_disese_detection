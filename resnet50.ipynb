{
  "cells": [
    {
      "cell_type": "code",
      "execution_count": null,
      "metadata": {
        "id": "fee7Wd0MXRbr"
      },
      "outputs": [],
      "source": [
        "import warnings\n",
        "import tensorflow as tf\n",
        "warnings.filterwarnings('ignore')\n",
        "import numpy as np\n",
        "import matplotlib.pyplot as plt\n",
        "import keras\n",
        "# Importing all necessary libraries\n",
        "from keras.preprocessing.image import ImageDataGenerator\n",
        "from keras.models import Sequential\n",
        "from keras.layers import Activation,Dropout,Flatten,Dense,MaxPool2D\n",
        "from keras import backend as K\n",
        "#from keras.datasets import mnist\n",
        "from keras.models import Sequential\n",
        "from keras.layers import Dense\n",
        "#from keras.optimizers import Adam\n",
        "import keras\n",
        "from keras.datasets import cifar10\n",
        "from keras.models import Model\n",
        "from keras.layers import Dense, Dropout, Activation, BatchNormalization, Flatten\n",
        "from keras.callbacks import ModelCheckpoint, ReduceLROnPlateau\n",
        "from keras.layers import Conv2D, MaxPooling2D\n",
        "#from keras.optimizers import Adam\n",
        "#!pip install -U git+https://github.com/qubvel/efficientnet\n",
        "#import efficientnet.keras as enet\n",
        "from keras.utils.np_utils import to_categorical\n",
        "import pandas as pd\n"
      ]
    },
    {
      "cell_type": "code",
      "execution_count": null,
      "metadata": {
        "id": "8dxd2otQY-DQ"
      },
      "outputs": [],
      "source": [
        "#!pip install h5py==2.10.0"
      ]
    },
    {
      "cell_type": "code",
      "source": [
        "# mount Google Drive\n",
        "from google.colab import drive\n",
        "drive.mount('/content/gdrive')"
      ],
      "metadata": {
        "colab": {
          "base_uri": "https://localhost:8080/"
        },
        "id": "r8QUpHgwsHhp",
        "outputId": "21a6981a-db86-4322-8419-45c8ec304505"
      },
      "execution_count": null,
      "outputs": [
        {
          "output_type": "stream",
          "name": "stdout",
          "text": [
            "Mounted at /content/gdrive\n"
          ]
        }
      ]
    },
    {
      "cell_type": "code",
      "execution_count": null,
      "metadata": {
        "id": "69lNK_jhrppU"
      },
      "outputs": [],
      "source": [
        "from keras.preprocessing.image import load_img\n",
        "import glob\n",
        "data=[]\n",
        "labels=[]\n",
        "bkl = glob.glob('/content/gdrive/MyDrive/3class_dataset/train/bkl/*.jpg')\n",
        "mel= glob.glob('/content/gdrive/MyDrive/3class_dataset/train/mel/*.jpg')\n",
        "nv = glob.glob('/content/gdrive/MyDrive/3class_dataset/train/nv/*.jpg')\n",
        "\n",
        "\n"
      ]
    },
    {
      "cell_type": "code",
      "source": [
        "for i in bkl:\n",
        "  image=load_img(i, target_size= (224,224)) \n",
        "  image=np.asarray(image)\n",
        "  data.append(image)\n",
        "  labels.append(0)\n",
        "\n",
        "for i in mel:\n",
        "  image=load_img(i, target_size= (224,224)) \n",
        "  image=np.asarray(image)\n",
        "  data.append(image)\n",
        "  labels.append(1)\n",
        "  \n",
        "for i in nv:\n",
        "  image=load_img(i, target_size= (224,224)) \n",
        "  image=np.asarray(image)\n",
        "  data.append(image)\n",
        "  labels.append(2)\n",
        "\n"
      ],
      "metadata": {
        "id": "XS9reWrHO4Bv"
      },
      "execution_count": null,
      "outputs": []
    },
    {
      "cell_type": "code",
      "source": [
        "\n",
        "\n",
        "bkl1 = glob.glob('/content/gdrive/MyDrive/3class_dataset/test/bkl/*.jpg')\n",
        "mel1= glob.glob('/content/gdrive/MyDrive/3class_dataset/test/mel/*.jpg')\n",
        "nv1 = glob.glob('/content/gdrive/MyDrive/3class_dataset/test/nv/*.jpg')\n",
        "\n",
        "for i in bkl1:\n",
        "  image=load_img(i, target_size= (224,224)) \n",
        "  image=np.asarray(image)\n",
        "  data.append(image)\n",
        "  labels.append(0)"
      ],
      "metadata": {
        "id": "0gYFq80HRepS"
      },
      "execution_count": null,
      "outputs": []
    },
    {
      "cell_type": "code",
      "source": [
        "for i in mel1:\n",
        "  image=load_img(i, target_size= (224,224)) \n",
        "  image=np.asarray(image)\n",
        "  data.append(image)\n",
        "  labels.append(1)\n",
        "for i in nv1:\n",
        "  image=load_img(i, target_size= (224,224)) \n",
        "  image=np.asarray(image)\n",
        "  data.append(image)\n",
        "  labels.append(2)"
      ],
      "metadata": {
        "id": "0I86HR8IRXAU"
      },
      "execution_count": null,
      "outputs": []
    },
    {
      "cell_type": "code",
      "source": [
        "df=pd.DataFrame({'data':data,'labels':labels})\n",
        "df2 = df.sample(frac = 1)\n",
        "data1=np.asarray(df2.iloc[:,0].tolist())\n",
        "labels1=np.asarray(df2.iloc[:,1].tolist())"
      ],
      "metadata": {
        "id": "uhXY_Yb6dGaR"
      },
      "execution_count": null,
      "outputs": []
    },
    {
      "cell_type": "code",
      "source": [
        "from keras.utils.np_utils import to_categorical\n",
        "#y_test=data1\n",
        "cat_labels = to_categorical(labels1, num_classes=3)\n",
        "data1=data1/255\n",
        "from sklearn.model_selection import train_test_split\n",
        "x_train,x_test,y_train,y_test=train_test_split(data1, cat_labels, test_size=0.25, random_state=250)\n",
        "x_train.shape\n"
      ],
      "metadata": {
        "colab": {
          "base_uri": "https://localhost:8080/"
        },
        "id": "fqZ7h_W8TCvV",
        "outputId": "957f69aa-3fb7-4780-e178-05ceb7a37248"
      },
      "execution_count": null,
      "outputs": [
        {
          "output_type": "execute_result",
          "data": {
            "text/plain": [
              "(3375, 224, 224, 3)"
            ]
          },
          "metadata": {},
          "execution_count": 13
        }
      ]
    },
    {
      "cell_type": "code",
      "source": [
        "y_test.shape"
      ],
      "metadata": {
        "colab": {
          "base_uri": "https://localhost:8080/"
        },
        "id": "ITdBIRoGevou",
        "outputId": "8a362741-2ebc-497a-e7fb-67953508f758"
      },
      "execution_count": null,
      "outputs": [
        {
          "output_type": "execute_result",
          "data": {
            "text/plain": [
              "(1125, 3)"
            ]
          },
          "metadata": {},
          "execution_count": 14
        }
      ]
    },
    {
      "cell_type": "code",
      "source": [
        "from keras import Model\n",
        "from keras.applications. import preprocess_input,ResNet50"
      ],
      "metadata": {
        "id": "6-1QTL55JjDo"
      },
      "execution_count": null,
      "outputs": []
    },
    {
      "cell_type": "code",
      "execution_count": null,
      "metadata": {
        "id": "aBkra_83s90R"
      },
      "outputs": [],
      "source": [
        "\n",
        "\n"
      ]
    },
    {
      "cell_type": "code",
      "source": [
        "from tensorflow.keras.optimizers import Adam,RMSprop\n",
        "optimizer='rmsprop'"
      ],
      "metadata": {
        "id": "NAIy_OtER1wQ"
      },
      "execution_count": null,
      "outputs": []
    },
    {
      "cell_type": "code",
      "source": [
        "from tensorflow.keras.models import Model\n",
        "from tensorflow.keras.layers import Dense, GlobalAveragePooling2D\n",
        "\n",
        "# create the base pre-trained model\n",
        "base_model = tf.keras.applications.ResNet50(\n",
        "    include_top=False,\n",
        "    weights=\"imagenet\",\n",
        "    \n",
        "    input_shape=(224,224,3))\n",
        "\n",
        "   \n",
        "\n",
        "# add a global spatial average pooling layer\n",
        "x = base_model.output\n",
        "x = GlobalAveragePooling2D()(x)\n",
        "# let's add a fully-connected layer\n",
        "x = Dense(1024, activation='relu')(x)\n",
        "# and a logistic layer -- let's say we have 200 classes\n",
        "predictions = Dense(3, activation='softmax')(x)\n",
        "\n",
        "# this is the model we will train\n",
        "model1 = Model(inputs=base_model.input, outputs=predictions)\n",
        "\n",
        "# first: train only the top layers (which were randomly initialized)\n",
        "# i.e. freeze all convolutional InceptionV3 layers\n",
        "for layer in base_model.layers:\n",
        "    layer.trainable = False\n",
        "\n",
        "\n",
        "\n"
      ],
      "metadata": {
        "id": "4Gc2dnCeYuFu"
      },
      "execution_count": null,
      "outputs": []
    },
    {
      "cell_type": "code",
      "source": [
        "# compile the model (should be done after setting layers to non-trainable)\n",
        "model1.compile(optimizer='rmsprop', loss='categorical_crossentropy',metrics=['accuracy'])"
      ],
      "metadata": {
        "id": "TKl11toDek-t"
      },
      "execution_count": null,
      "outputs": []
    },
    {
      "cell_type": "code",
      "source": [],
      "metadata": {
        "id": "Dx3TxsvMML-C"
      },
      "execution_count": null,
      "outputs": []
    },
    {
      "cell_type": "code",
      "source": [
        "dataAugmentaion = ImageDataGenerator(rotation_range = 30, zoom_range = 0.20, \n",
        "fill_mode = \"nearest\", shear_range = 0.20, horizontal_flip = True, \n",
        "width_shift_range = 0.1, height_shift_range = 0.1)\n",
        "\n",
        "hist=model1.fit_generator(dataAugmentaion.flow(x_train, y_train, batch_size = 32),\n",
        " validation_data = (x_test, y_test), steps_per_epoch = len(x_train) // 32,\n",
        " epochs = 50)"
      ],
      "metadata": {
        "colab": {
          "base_uri": "https://localhost:8080/"
        },
        "id": "xGJq0bc-T7Hq",
        "outputId": "3888365d-186c-4570-9822-f6258eec928d"
      },
      "execution_count": null,
      "outputs": [
        {
          "output_type": "stream",
          "name": "stdout",
          "text": [
            "Epoch 1/50\n",
            "105/105 [==============================] - 35s 328ms/step - loss: 0.9499 - accuracy: 0.5271 - val_loss: 0.9594 - val_accuracy: 0.5458\n",
            "Epoch 2/50\n",
            "105/105 [==============================] - 33s 311ms/step - loss: 0.9460 - accuracy: 0.5328 - val_loss: 1.1223 - val_accuracy: 0.3760\n",
            "Epoch 3/50\n",
            "105/105 [==============================] - 33s 309ms/step - loss: 0.9366 - accuracy: 0.5372 - val_loss: 0.9018 - val_accuracy: 0.5778\n",
            "Epoch 4/50\n",
            "105/105 [==============================] - 33s 310ms/step - loss: 0.9460 - accuracy: 0.5229 - val_loss: 0.9790 - val_accuracy: 0.5298\n",
            "Epoch 5/50\n",
            "105/105 [==============================] - 33s 310ms/step - loss: 0.9413 - accuracy: 0.5348 - val_loss: 0.8993 - val_accuracy: 0.5413\n",
            "Epoch 6/50\n",
            "105/105 [==============================] - 33s 312ms/step - loss: 0.9446 - accuracy: 0.5325 - val_loss: 0.9092 - val_accuracy: 0.5289\n",
            "Epoch 7/50\n",
            "105/105 [==============================] - 32s 308ms/step - loss: 0.9414 - accuracy: 0.5393 - val_loss: 0.8863 - val_accuracy: 0.5636\n",
            "Epoch 8/50\n",
            "105/105 [==============================] - 33s 309ms/step - loss: 0.9440 - accuracy: 0.5357 - val_loss: 0.9000 - val_accuracy: 0.5502\n",
            "Epoch 9/50\n",
            "105/105 [==============================] - 32s 308ms/step - loss: 0.9373 - accuracy: 0.5313 - val_loss: 0.9042 - val_accuracy: 0.5324\n",
            "Epoch 10/50\n",
            "105/105 [==============================] - 33s 310ms/step - loss: 0.9319 - accuracy: 0.5354 - val_loss: 0.9226 - val_accuracy: 0.5111\n",
            "Epoch 11/50\n",
            "105/105 [==============================] - 33s 312ms/step - loss: 0.9273 - accuracy: 0.5337 - val_loss: 0.8736 - val_accuracy: 0.5867\n",
            "Epoch 12/50\n",
            "105/105 [==============================] - 32s 309ms/step - loss: 0.9432 - accuracy: 0.5408 - val_loss: 0.9710 - val_accuracy: 0.5271\n",
            "Epoch 13/50\n",
            "105/105 [==============================] - 33s 310ms/step - loss: 0.9281 - accuracy: 0.5477 - val_loss: 0.9080 - val_accuracy: 0.5360\n",
            "Epoch 14/50\n",
            "105/105 [==============================] - 33s 310ms/step - loss: 0.9327 - accuracy: 0.5435 - val_loss: 0.8950 - val_accuracy: 0.5707\n",
            "Epoch 15/50\n",
            "105/105 [==============================] - 33s 310ms/step - loss: 0.9245 - accuracy: 0.5519 - val_loss: 0.9388 - val_accuracy: 0.5253\n",
            "Epoch 16/50\n",
            "105/105 [==============================] - 33s 310ms/step - loss: 0.9197 - accuracy: 0.5525 - val_loss: 0.8591 - val_accuracy: 0.5991\n",
            "Epoch 17/50\n",
            "105/105 [==============================] - 32s 309ms/step - loss: 0.9339 - accuracy: 0.5429 - val_loss: 0.8829 - val_accuracy: 0.5840\n",
            "Epoch 18/50\n",
            "105/105 [==============================] - 33s 310ms/step - loss: 0.9260 - accuracy: 0.5495 - val_loss: 0.8731 - val_accuracy: 0.5582\n",
            "Epoch 19/50\n",
            "105/105 [==============================] - 33s 311ms/step - loss: 0.9199 - accuracy: 0.5528 - val_loss: 0.8592 - val_accuracy: 0.6107\n",
            "Epoch 20/50\n",
            "105/105 [==============================] - 32s 309ms/step - loss: 0.9240 - accuracy: 0.5522 - val_loss: 0.9428 - val_accuracy: 0.5244\n",
            "Epoch 21/50\n",
            "105/105 [==============================] - 33s 313ms/step - loss: 0.9115 - accuracy: 0.5501 - val_loss: 0.9066 - val_accuracy: 0.5804\n",
            "Epoch 22/50\n",
            "105/105 [==============================] - 32s 309ms/step - loss: 0.9238 - accuracy: 0.5432 - val_loss: 0.8597 - val_accuracy: 0.5956\n",
            "Epoch 23/50\n",
            "105/105 [==============================] - 33s 311ms/step - loss: 0.9279 - accuracy: 0.5515 - val_loss: 0.9868 - val_accuracy: 0.4836\n",
            "Epoch 24/50\n",
            "105/105 [==============================] - 33s 309ms/step - loss: 0.9216 - accuracy: 0.5477 - val_loss: 0.8571 - val_accuracy: 0.6391\n",
            "Epoch 25/50\n",
            "105/105 [==============================] - 32s 309ms/step - loss: 0.9140 - accuracy: 0.5552 - val_loss: 0.8708 - val_accuracy: 0.5804\n",
            "Epoch 26/50\n",
            "105/105 [==============================] - 33s 310ms/step - loss: 0.9213 - accuracy: 0.5555 - val_loss: 0.8745 - val_accuracy: 0.5600\n",
            "Epoch 27/50\n",
            "105/105 [==============================] - 32s 308ms/step - loss: 0.9268 - accuracy: 0.5441 - val_loss: 0.8825 - val_accuracy: 0.5707\n",
            "Epoch 28/50\n",
            "105/105 [==============================] - 33s 310ms/step - loss: 0.9134 - accuracy: 0.5510 - val_loss: 0.8445 - val_accuracy: 0.6169\n",
            "Epoch 29/50\n",
            "105/105 [==============================] - 32s 307ms/step - loss: 0.9063 - accuracy: 0.5666 - val_loss: 0.9593 - val_accuracy: 0.5333\n",
            "Epoch 30/50\n",
            "105/105 [==============================] - 33s 309ms/step - loss: 0.9151 - accuracy: 0.5534 - val_loss: 0.8578 - val_accuracy: 0.5929\n",
            "Epoch 31/50\n",
            "105/105 [==============================] - 32s 309ms/step - loss: 0.9173 - accuracy: 0.5465 - val_loss: 0.8509 - val_accuracy: 0.6009\n",
            "Epoch 32/50\n",
            "105/105 [==============================] - 32s 309ms/step - loss: 0.9186 - accuracy: 0.5595 - val_loss: 0.8440 - val_accuracy: 0.6018\n",
            "Epoch 33/50\n",
            "105/105 [==============================] - 32s 308ms/step - loss: 0.9029 - accuracy: 0.5573 - val_loss: 0.8401 - val_accuracy: 0.6320\n",
            "Epoch 34/50\n",
            "105/105 [==============================] - 32s 308ms/step - loss: 0.9160 - accuracy: 0.5465 - val_loss: 0.8926 - val_accuracy: 0.5529\n",
            "Epoch 35/50\n",
            "105/105 [==============================] - 32s 308ms/step - loss: 0.9207 - accuracy: 0.5606 - val_loss: 0.8812 - val_accuracy: 0.5698\n",
            "Epoch 36/50\n",
            "105/105 [==============================] - 33s 311ms/step - loss: 0.9052 - accuracy: 0.5663 - val_loss: 0.9129 - val_accuracy: 0.5218\n",
            "Epoch 37/50\n",
            "105/105 [==============================] - 32s 307ms/step - loss: 0.9135 - accuracy: 0.5591 - val_loss: 0.8784 - val_accuracy: 0.6098\n",
            "Epoch 38/50\n",
            "105/105 [==============================] - 32s 309ms/step - loss: 0.9136 - accuracy: 0.5645 - val_loss: 0.9193 - val_accuracy: 0.5573\n",
            "Epoch 39/50\n",
            "105/105 [==============================] - 32s 308ms/step - loss: 0.8993 - accuracy: 0.5678 - val_loss: 1.0358 - val_accuracy: 0.4640\n",
            "Epoch 40/50\n",
            "105/105 [==============================] - 33s 311ms/step - loss: 0.8893 - accuracy: 0.5701 - val_loss: 0.8403 - val_accuracy: 0.6471\n",
            "Epoch 41/50\n",
            "105/105 [==============================] - 33s 309ms/step - loss: 0.8964 - accuracy: 0.5588 - val_loss: 0.8947 - val_accuracy: 0.5511\n",
            "Epoch 42/50\n",
            "105/105 [==============================] - 32s 307ms/step - loss: 0.9068 - accuracy: 0.5636 - val_loss: 0.8403 - val_accuracy: 0.6178\n",
            "Epoch 43/50\n",
            "105/105 [==============================] - 32s 309ms/step - loss: 0.9052 - accuracy: 0.5525 - val_loss: 0.8408 - val_accuracy: 0.6231\n",
            "Epoch 44/50\n",
            "105/105 [==============================] - 32s 309ms/step - loss: 0.9028 - accuracy: 0.5612 - val_loss: 0.8331 - val_accuracy: 0.6533\n",
            "Epoch 45/50\n",
            "105/105 [==============================] - 32s 309ms/step - loss: 0.9027 - accuracy: 0.5681 - val_loss: 0.8836 - val_accuracy: 0.5804\n",
            "Epoch 46/50\n",
            "105/105 [==============================] - 33s 317ms/step - loss: 0.9042 - accuracy: 0.5588 - val_loss: 0.8837 - val_accuracy: 0.5609\n",
            "Epoch 47/50\n",
            "105/105 [==============================] - 32s 307ms/step - loss: 0.8928 - accuracy: 0.5636 - val_loss: 0.8465 - val_accuracy: 0.6338\n",
            "Epoch 48/50\n",
            "105/105 [==============================] - 33s 313ms/step - loss: 0.8910 - accuracy: 0.5791 - val_loss: 0.9042 - val_accuracy: 0.5991\n",
            "Epoch 49/50\n",
            "105/105 [==============================] - 32s 308ms/step - loss: 0.8914 - accuracy: 0.5692 - val_loss: 0.9130 - val_accuracy: 0.5227\n",
            "Epoch 50/50\n",
            "105/105 [==============================] - 33s 310ms/step - loss: 0.8870 - accuracy: 0.5854 - val_loss: 1.0234 - val_accuracy: 0.4969\n"
          ]
        }
      ]
    },
    {
      "cell_type": "code",
      "source": [
        "acc = hist.history['accuracy']\n",
        "val_acc = hist.history['val_accuracy']\n",
        "loss = hist.history['loss']\n",
        "val_loss = hist.history['val_loss']"
      ],
      "metadata": {
        "id": "SgUp6b8igdWO"
      },
      "execution_count": null,
      "outputs": []
    },
    {
      "cell_type": "code",
      "source": [
        "epochs = range(len(acc))\n",
        "\n",
        "plt.plot(epochs, acc, 'r', label='Training accuracy')\n",
        "plt.plot(epochs, val_acc, 'b', label='Validation accuracy')\n",
        "plt.title('Training and validation accuracy')\n",
        "plt.legend(loc=0)\n",
        "plt.figure(figsize=(6,6))"
      ],
      "metadata": {
        "colab": {
          "base_uri": "https://localhost:8080/",
          "height": 316
        },
        "id": "d1iwUT74gdpN",
        "outputId": "3a519735-8649-46ca-8534-91f165c928fb"
      },
      "execution_count": null,
      "outputs": [
        {
          "output_type": "execute_result",
          "data": {
            "text/plain": [
              "<Figure size 432x432 with 0 Axes>"
            ]
          },
          "metadata": {},
          "execution_count": 25
        },
        {
          "output_type": "display_data",
          "data": {
            "text/plain": [
              "<Figure size 432x288 with 1 Axes>"
            ],
            "image/png": "[encoded data removed]"
          },
          "metadata": {
            "needs_background": "light"
          }
        },
        {
          "output_type": "display_data",
          "data": {
            "text/plain": [
              "<Figure size 432x432 with 0 Axes>"
            ]
          },
          "metadata": {}
        }
      ]
    },
    {
      "cell_type": "code",
      "source": [
        "plt.plot(epochs, loss, 'r', label='Training loss')\n",
        "plt.plot(epochs, val_loss, 'b', label='Validation loss')\n",
        "plt.title('Training and validation loss')\n",
        "plt.legend(loc=0)\n",
        "plt.figure(figsize=(6,6))"
      ],
      "metadata": {
        "colab": {
          "base_uri": "https://localhost:8080/",
          "height": 316
        },
        "id": "m2aijfb_gd25",
        "outputId": "a1e13fc3-d338-4602-c0e3-410f03575bc8"
      },
      "execution_count": null,
      "outputs": [
        {
          "output_type": "execute_result",
          "data": {
            "text/plain": [
              "<Figure size 432x432 with 0 Axes>"
            ]
          },
          "metadata": {},
          "execution_count": 26
        },
        {
          "output_type": "display_data",
          "data": {
            "text/plain": [
              "<Figure size 432x288 with 1 Axes>"
            ],
            "image/png": "[encoded data removed]"
          },
          "metadata": {
            "needs_background": "light"
          }
        },
        {
          "output_type": "display_data",
          "data": {
            "text/plain": [
              "<Figure size 432x432 with 0 Axes>"
            ]
          },
          "metadata": {}
        }
      ]
    },
    {
      "cell_type": "code",
      "source": [
        "#FOR 100 EPOCHS\n",
        "epochs = range(len(acc))\n",
        "\n",
        "plt.plot(epochs, acc, 'r', label='Training accuracy')\n",
        "plt.plot(epochs, val_acc, 'b', label='Validation accuracy')\n",
        "plt.title('Training and validation accuracy')\n",
        "plt.legend(loc=0)\n",
        "plt.figure(figsize=(6,6))"
      ],
      "metadata": {
        "colab": {
          "base_uri": "https://localhost:8080/",
          "height": 316
        },
        "id": "Y7bulWDttRXm",
        "outputId": "c4f4e927-42af-48f0-ffef-08e385f7461b"
      },
      "execution_count": null,
      "outputs": [
        {
          "output_type": "execute_result",
          "data": {
            "text/plain": [
              "<Figure size 432x432 with 0 Axes>"
            ]
          },
          "metadata": {},
          "execution_count": 29
        },
        {
          "output_type": "display_data",
          "data": {
            "text/plain": [
              "<Figure size 432x288 with 1 Axes>"
            ],
            "image/png": "[encoded data removed]"
          },
          "metadata": {
            "needs_background": "light"
          }
        },
        {
          "output_type": "display_data",
          "data": {
            "text/plain": [
              "<Figure size 432x432 with 0 Axes>"
            ]
          },
          "metadata": {}
        }
      ]
    },
    {
      "cell_type": "code",
      "source": [
        "#FOR 100 EPOCHS\n",
        "plt.plot(epochs, loss, 'r', label='Training loss')\n",
        "plt.plot(epochs, val_loss, 'b', label='Validation loss')\n",
        "plt.title('Training and validation loss')\n",
        "plt.legend(loc=0)\n",
        "plt.figure(figsize=(6,6))"
      ],
      "metadata": {
        "colab": {
          "base_uri": "https://localhost:8080/",
          "height": 316
        },
        "id": "e93yVR62tajx",
        "outputId": "10911c1a-4931-4ff8-c38f-525442aaf463"
      },
      "execution_count": null,
      "outputs": [
        {
          "output_type": "execute_result",
          "data": {
            "text/plain": [
              "<Figure size 432x432 with 0 Axes>"
            ]
          },
          "metadata": {},
          "execution_count": 30
        },
        {
          "output_type": "display_data",
          "data": {
            "text/plain": [
              "<Figure size 432x288 with 1 Axes>"
            ],
            "image/png": "[encoded data removed]"
          },
          "metadata": {
            "needs_background": "light"
          }
        },
        {
          "output_type": "display_data",
          "data": {
            "text/plain": [
              "<Figure size 432x432 with 0 Axes>"
            ]
          },
          "metadata": {}
        }
      ]
    },
    {
      "cell_type": "code",
      "source": [
        "#  batch_size = 15\n",
        "\n",
        "# epochs =20\n",
        "\n",
        "\n",
        "\n",
        "# history = model.fit(\n",
        "\n",
        "#     x_train,y_train,\n",
        "\n",
        "#     epochs=epochs,\n",
        "\n",
        "#     batch_size = batch_size,\n",
        "\n",
        "#     validation_data=(x_test,y_test),\n",
        "\n",
        "#     verbose=2)"
      ],
      "metadata": {
        "colab": {
          "base_uri": "https://localhost:8080/",
          "height": 1000
        },
        "id": "OGemXEnhMM6O",
        "outputId": "ac91fe63-152e-43a9-9b0c-3b641d82affd"
      },
      "execution_count": null,
      "outputs": [
        {
          "output_type": "stream",
          "name": "stdout",
          "text": [
            "Epoch 1/20\n",
            "225/225 - 40s - loss: 0.9736 - accuracy: 0.5938 - val_loss: 1.4033 - val_accuracy: 0.3156 - 40s/epoch - 178ms/step\n",
            "Epoch 2/20\n",
            "225/225 - 21s - loss: 0.8351 - accuracy: 0.6459 - val_loss: 1.1132 - val_accuracy: 0.4596 - 21s/epoch - 93ms/step\n",
            "Epoch 3/20\n",
            "225/225 - 21s - loss: 0.7781 - accuracy: 0.6836 - val_loss: 1.9766 - val_accuracy: 0.6738 - 21s/epoch - 93ms/step\n",
            "Epoch 4/20\n",
            "225/225 - 21s - loss: 0.7296 - accuracy: 0.6880 - val_loss: 0.8138 - val_accuracy: 0.6853 - 21s/epoch - 93ms/step\n",
            "Epoch 5/20\n",
            "225/225 - 21s - loss: 0.7151 - accuracy: 0.6927 - val_loss: 1.0849 - val_accuracy: 0.6258 - 21s/epoch - 93ms/step\n",
            "Epoch 6/20\n",
            "225/225 - 21s - loss: 0.7095 - accuracy: 0.6996 - val_loss: 1.1014 - val_accuracy: 0.5013 - 21s/epoch - 92ms/step\n",
            "Epoch 7/20\n",
            "225/225 - 21s - loss: 0.7185 - accuracy: 0.6951 - val_loss: 0.8726 - val_accuracy: 0.6071 - 21s/epoch - 92ms/step\n",
            "Epoch 8/20\n",
            "225/225 - 21s - loss: 0.6872 - accuracy: 0.7007 - val_loss: 0.7837 - val_accuracy: 0.6196 - 21s/epoch - 93ms/step\n",
            "Epoch 9/20\n",
            "225/225 - 21s - loss: 0.6951 - accuracy: 0.7126 - val_loss: 1.4173 - val_accuracy: 0.5458 - 21s/epoch - 93ms/step\n",
            "Epoch 10/20\n",
            "225/225 - 21s - loss: 0.6750 - accuracy: 0.7259 - val_loss: 0.7080 - val_accuracy: 0.7093 - 21s/epoch - 93ms/step\n",
            "Epoch 11/20\n",
            "225/225 - 21s - loss: 0.6589 - accuracy: 0.7241 - val_loss: 0.7387 - val_accuracy: 0.6747 - 21s/epoch - 93ms/step\n",
            "Epoch 12/20\n",
            "225/225 - 21s - loss: 0.6642 - accuracy: 0.7132 - val_loss: 0.7421 - val_accuracy: 0.7102 - 21s/epoch - 93ms/step\n",
            "Epoch 13/20\n",
            "225/225 - 21s - loss: 0.6327 - accuracy: 0.7378 - val_loss: 0.8010 - val_accuracy: 0.6596 - 21s/epoch - 92ms/step\n",
            "Epoch 14/20\n",
            "225/225 - 21s - loss: 0.6300 - accuracy: 0.7360 - val_loss: 0.8090 - val_accuracy: 0.6658 - 21s/epoch - 92ms/step\n",
            "Epoch 15/20\n",
            "225/225 - 21s - loss: 0.6223 - accuracy: 0.7440 - val_loss: 1.2095 - val_accuracy: 0.5778 - 21s/epoch - 93ms/step\n",
            "Epoch 16/20\n",
            "225/225 - 21s - loss: 0.6266 - accuracy: 0.7416 - val_loss: 0.8618 - val_accuracy: 0.6676 - 21s/epoch - 93ms/step\n",
            "Epoch 17/20\n",
            "225/225 - 21s - loss: 0.6082 - accuracy: 0.7529 - val_loss: 0.8066 - val_accuracy: 0.6676 - 21s/epoch - 93ms/step\n",
            "Epoch 18/20\n",
            "225/225 - 21s - loss: 0.6056 - accuracy: 0.7550 - val_loss: 0.7149 - val_accuracy: 0.6978 - 21s/epoch - 93ms/step\n",
            "Epoch 19/20\n",
            "225/225 - 21s - loss: 0.5598 - accuracy: 0.7745 - val_loss: 0.8345 - val_accuracy: 0.6880 - 21s/epoch - 93ms/step\n",
            "Epoch 20/20\n"
          ]
        },
        {
          "output_type": "error",
          "ename": "KeyboardInterrupt",
          "evalue": "ignored",
          "traceback": [
            "\u001b[0;31m---------------------------------------------------------------------------\u001b[0m",
            "\u001b[0;31mKeyboardInterrupt\u001b[0m                         Traceback (most recent call last)",
            "\u001b[0;32m<ipython-input-45-c8ff60ddf3b1>\u001b[0m in \u001b[0;36m<module>\u001b[0;34m\u001b[0m\n\u001b[1;32m     15\u001b[0m    \u001b[0mvalidation_data\u001b[0m\u001b[0;34m=\u001b[0m\u001b[0;34m(\u001b[0m\u001b[0mx_test\u001b[0m\u001b[0;34m,\u001b[0m\u001b[0my_test\u001b[0m\u001b[0;34m)\u001b[0m\u001b[0;34m,\u001b[0m\u001b[0;34m\u001b[0m\u001b[0;34m\u001b[0m\u001b[0m\n\u001b[1;32m     16\u001b[0m \u001b[0;34m\u001b[0m\u001b[0m\n\u001b[0;32m---> 17\u001b[0;31m    verbose=2)\n\u001b[0m",
            "\u001b[0;32m/usr/local/lib/python3.7/dist-packages/keras/utils/traceback_utils.py\u001b[0m in \u001b[0;36merror_handler\u001b[0;34m(*args, **kwargs)\u001b[0m\n\u001b[1;32m     62\u001b[0m     \u001b[0mfiltered_tb\u001b[0m \u001b[0;34m=\u001b[0m \u001b[0;32mNone\u001b[0m\u001b[0;34m\u001b[0m\u001b[0;34m\u001b[0m\u001b[0m\n\u001b[1;32m     63\u001b[0m     \u001b[0;32mtry\u001b[0m\u001b[0;34m:\u001b[0m\u001b[0;34m\u001b[0m\u001b[0;34m\u001b[0m\u001b[0m\n\u001b[0;32m---> 64\u001b[0;31m       \u001b[0;32mreturn\u001b[0m \u001b[0mfn\u001b[0m\u001b[0;34m(\u001b[0m\u001b[0;34m*\u001b[0m\u001b[0margs\u001b[0m\u001b[0;34m,\u001b[0m \u001b[0;34m**\u001b[0m\u001b[0mkwargs\u001b[0m\u001b[0;34m)\u001b[0m\u001b[0;34m\u001b[0m\u001b[0;34m\u001b[0m\u001b[0m\n\u001b[0m\u001b[1;32m     65\u001b[0m     \u001b[0;32mexcept\u001b[0m \u001b[0mException\u001b[0m \u001b[0;32mas\u001b[0m \u001b[0me\u001b[0m\u001b[0;34m:\u001b[0m  \u001b[0;31m# pylint: disable=broad-except\u001b[0m\u001b[0;34m\u001b[0m\u001b[0;34m\u001b[0m\u001b[0m\n\u001b[1;32m     66\u001b[0m       \u001b[0mfiltered_tb\u001b[0m \u001b[0;34m=\u001b[0m \u001b[0m_process_traceback_frames\u001b[0m\u001b[0;34m(\u001b[0m\u001b[0me\u001b[0m\u001b[0;34m.\u001b[0m\u001b[0m__traceback__\u001b[0m\u001b[0;34m)\u001b[0m\u001b[0;34m\u001b[0m\u001b[0;34m\u001b[0m\u001b[0m\n",
            "\u001b[0;32m/usr/local/lib/python3.7/dist-packages/keras/engine/training.py\u001b[0m in \u001b[0;36mfit\u001b[0;34m(self, x, y, batch_size, epochs, verbose, callbacks, validation_split, validation_data, shuffle, class_weight, sample_weight, initial_epoch, steps_per_epoch, validation_steps, validation_batch_size, validation_freq, max_queue_size, workers, use_multiprocessing)\u001b[0m\n\u001b[1;32m   1429\u001b[0m               \u001b[0muse_multiprocessing\u001b[0m\u001b[0;34m=\u001b[0m\u001b[0muse_multiprocessing\u001b[0m\u001b[0;34m,\u001b[0m\u001b[0;34m\u001b[0m\u001b[0;34m\u001b[0m\u001b[0m\n\u001b[1;32m   1430\u001b[0m               \u001b[0mreturn_dict\u001b[0m\u001b[0;34m=\u001b[0m\u001b[0;32mTrue\u001b[0m\u001b[0;34m,\u001b[0m\u001b[0;34m\u001b[0m\u001b[0;34m\u001b[0m\u001b[0m\n\u001b[0;32m-> 1431\u001b[0;31m               _use_cached_eval_dataset=True)\n\u001b[0m\u001b[1;32m   1432\u001b[0m           \u001b[0mval_logs\u001b[0m \u001b[0;34m=\u001b[0m \u001b[0;34m{\u001b[0m\u001b[0;34m'val_'\u001b[0m \u001b[0;34m+\u001b[0m \u001b[0mname\u001b[0m\u001b[0;34m:\u001b[0m \u001b[0mval\u001b[0m \u001b[0;32mfor\u001b[0m \u001b[0mname\u001b[0m\u001b[0;34m,\u001b[0m \u001b[0mval\u001b[0m \u001b[0;32min\u001b[0m \u001b[0mval_logs\u001b[0m\u001b[0;34m.\u001b[0m\u001b[0mitems\u001b[0m\u001b[0;34m(\u001b[0m\u001b[0;34m)\u001b[0m\u001b[0;34m}\u001b[0m\u001b[0;34m\u001b[0m\u001b[0;34m\u001b[0m\u001b[0m\n\u001b[1;32m   1433\u001b[0m           \u001b[0mepoch_logs\u001b[0m\u001b[0;34m.\u001b[0m\u001b[0mupdate\u001b[0m\u001b[0;34m(\u001b[0m\u001b[0mval_logs\u001b[0m\u001b[0;34m)\u001b[0m\u001b[0;34m\u001b[0m\u001b[0;34m\u001b[0m\u001b[0m\n",
            "\u001b[0;32m/usr/local/lib/python3.7/dist-packages/keras/utils/traceback_utils.py\u001b[0m in \u001b[0;36merror_handler\u001b[0;34m(*args, **kwargs)\u001b[0m\n\u001b[1;32m     62\u001b[0m     \u001b[0mfiltered_tb\u001b[0m \u001b[0;34m=\u001b[0m \u001b[0;32mNone\u001b[0m\u001b[0;34m\u001b[0m\u001b[0;34m\u001b[0m\u001b[0m\n\u001b[1;32m     63\u001b[0m     \u001b[0;32mtry\u001b[0m\u001b[0;34m:\u001b[0m\u001b[0;34m\u001b[0m\u001b[0;34m\u001b[0m\u001b[0m\n\u001b[0;32m---> 64\u001b[0;31m       \u001b[0;32mreturn\u001b[0m \u001b[0mfn\u001b[0m\u001b[0;34m(\u001b[0m\u001b[0;34m*\u001b[0m\u001b[0margs\u001b[0m\u001b[0;34m,\u001b[0m \u001b[0;34m**\u001b[0m\u001b[0mkwargs\u001b[0m\u001b[0;34m)\u001b[0m\u001b[0;34m\u001b[0m\u001b[0;34m\u001b[0m\u001b[0m\n\u001b[0m\u001b[1;32m     65\u001b[0m     \u001b[0;32mexcept\u001b[0m \u001b[0mException\u001b[0m \u001b[0;32mas\u001b[0m \u001b[0me\u001b[0m\u001b[0;34m:\u001b[0m  \u001b[0;31m# pylint: disable=broad-except\u001b[0m\u001b[0;34m\u001b[0m\u001b[0;34m\u001b[0m\u001b[0m\n\u001b[1;32m     66\u001b[0m       \u001b[0mfiltered_tb\u001b[0m \u001b[0;34m=\u001b[0m \u001b[0m_process_traceback_frames\u001b[0m\u001b[0;34m(\u001b[0m\u001b[0me\u001b[0m\u001b[0;34m.\u001b[0m\u001b[0m__traceback__\u001b[0m\u001b[0;34m)\u001b[0m\u001b[0;34m\u001b[0m\u001b[0;34m\u001b[0m\u001b[0m\n",
            "\u001b[0;32m/usr/local/lib/python3.7/dist-packages/keras/engine/training.py\u001b[0m in \u001b[0;36mevaluate\u001b[0;34m(self, x, y, batch_size, verbose, sample_weight, steps, callbacks, max_queue_size, workers, use_multiprocessing, return_dict, **kwargs)\u001b[0m\n\u001b[1;32m   1714\u001b[0m             \u001b[0;32mwith\u001b[0m \u001b[0mtf\u001b[0m\u001b[0;34m.\u001b[0m\u001b[0mprofiler\u001b[0m\u001b[0;34m.\u001b[0m\u001b[0mexperimental\u001b[0m\u001b[0;34m.\u001b[0m\u001b[0mTrace\u001b[0m\u001b[0;34m(\u001b[0m\u001b[0;34m'test'\u001b[0m\u001b[0;34m,\u001b[0m \u001b[0mstep_num\u001b[0m\u001b[0;34m=\u001b[0m\u001b[0mstep\u001b[0m\u001b[0;34m,\u001b[0m \u001b[0m_r\u001b[0m\u001b[0;34m=\u001b[0m\u001b[0;36m1\u001b[0m\u001b[0;34m)\u001b[0m\u001b[0;34m:\u001b[0m\u001b[0;34m\u001b[0m\u001b[0;34m\u001b[0m\u001b[0m\n\u001b[1;32m   1715\u001b[0m               \u001b[0mcallbacks\u001b[0m\u001b[0;34m.\u001b[0m\u001b[0mon_test_batch_begin\u001b[0m\u001b[0;34m(\u001b[0m\u001b[0mstep\u001b[0m\u001b[0;34m)\u001b[0m\u001b[0;34m\u001b[0m\u001b[0;34m\u001b[0m\u001b[0m\n\u001b[0;32m-> 1716\u001b[0;31m               \u001b[0mtmp_logs\u001b[0m \u001b[0;34m=\u001b[0m \u001b[0mself\u001b[0m\u001b[0;34m.\u001b[0m\u001b[0mtest_function\u001b[0m\u001b[0;34m(\u001b[0m\u001b[0miterator\u001b[0m\u001b[0;34m)\u001b[0m\u001b[0;34m\u001b[0m\u001b[0;34m\u001b[0m\u001b[0m\n\u001b[0m\u001b[1;32m   1717\u001b[0m               \u001b[0;32mif\u001b[0m \u001b[0mdata_handler\u001b[0m\u001b[0;34m.\u001b[0m\u001b[0mshould_sync\u001b[0m\u001b[0;34m:\u001b[0m\u001b[0;34m\u001b[0m\u001b[0;34m\u001b[0m\u001b[0m\n\u001b[1;32m   1718\u001b[0m                 \u001b[0mcontext\u001b[0m\u001b[0;34m.\u001b[0m\u001b[0masync_wait\u001b[0m\u001b[0;34m(\u001b[0m\u001b[0;34m)\u001b[0m\u001b[0;34m\u001b[0m\u001b[0;34m\u001b[0m\u001b[0m\n",
            "\u001b[0;32m/usr/local/lib/python3.7/dist-packages/tensorflow/python/util/traceback_utils.py\u001b[0m in \u001b[0;36merror_handler\u001b[0;34m(*args, **kwargs)\u001b[0m\n\u001b[1;32m    148\u001b[0m     \u001b[0mfiltered_tb\u001b[0m \u001b[0;34m=\u001b[0m \u001b[0;32mNone\u001b[0m\u001b[0;34m\u001b[0m\u001b[0;34m\u001b[0m\u001b[0m\n\u001b[1;32m    149\u001b[0m     \u001b[0;32mtry\u001b[0m\u001b[0;34m:\u001b[0m\u001b[0;34m\u001b[0m\u001b[0;34m\u001b[0m\u001b[0m\n\u001b[0;32m--> 150\u001b[0;31m       \u001b[0;32mreturn\u001b[0m \u001b[0mfn\u001b[0m\u001b[0;34m(\u001b[0m\u001b[0;34m*\u001b[0m\u001b[0margs\u001b[0m\u001b[0;34m,\u001b[0m \u001b[0;34m**\u001b[0m\u001b[0mkwargs\u001b[0m\u001b[0;34m)\u001b[0m\u001b[0;34m\u001b[0m\u001b[0;34m\u001b[0m\u001b[0m\n\u001b[0m\u001b[1;32m    151\u001b[0m     \u001b[0;32mexcept\u001b[0m \u001b[0mException\u001b[0m \u001b[0;32mas\u001b[0m \u001b[0me\u001b[0m\u001b[0;34m:\u001b[0m\u001b[0;34m\u001b[0m\u001b[0;34m\u001b[0m\u001b[0m\n\u001b[1;32m    152\u001b[0m       \u001b[0mfiltered_tb\u001b[0m \u001b[0;34m=\u001b[0m \u001b[0m_process_traceback_frames\u001b[0m\u001b[0;34m(\u001b[0m\u001b[0me\u001b[0m\u001b[0;34m.\u001b[0m\u001b[0m__traceback__\u001b[0m\u001b[0;34m)\u001b[0m\u001b[0;34m\u001b[0m\u001b[0;34m\u001b[0m\u001b[0m\n",
            "\u001b[0;32m/usr/local/lib/python3.7/dist-packages/tensorflow/python/eager/def_function.py\u001b[0m in \u001b[0;36m__call__\u001b[0;34m(self, *args, **kwds)\u001b[0m\n\u001b[1;32m    913\u001b[0m \u001b[0;34m\u001b[0m\u001b[0m\n\u001b[1;32m    914\u001b[0m       \u001b[0;32mwith\u001b[0m \u001b[0mOptionalXlaContext\u001b[0m\u001b[0;34m(\u001b[0m\u001b[0mself\u001b[0m\u001b[0;34m.\u001b[0m\u001b[0m_jit_compile\u001b[0m\u001b[0;34m)\u001b[0m\u001b[0;34m:\u001b[0m\u001b[0;34m\u001b[0m\u001b[0;34m\u001b[0m\u001b[0m\n\u001b[0;32m--> 915\u001b[0;31m         \u001b[0mresult\u001b[0m \u001b[0;34m=\u001b[0m \u001b[0mself\u001b[0m\u001b[0;34m.\u001b[0m\u001b[0m_call\u001b[0m\u001b[0;34m(\u001b[0m\u001b[0;34m*\u001b[0m\u001b[0margs\u001b[0m\u001b[0;34m,\u001b[0m \u001b[0;34m**\u001b[0m\u001b[0mkwds\u001b[0m\u001b[0;34m)\u001b[0m\u001b[0;34m\u001b[0m\u001b[0;34m\u001b[0m\u001b[0m\n\u001b[0m\u001b[1;32m    916\u001b[0m \u001b[0;34m\u001b[0m\u001b[0m\n\u001b[1;32m    917\u001b[0m       \u001b[0mnew_tracing_count\u001b[0m \u001b[0;34m=\u001b[0m \u001b[0mself\u001b[0m\u001b[0;34m.\u001b[0m\u001b[0mexperimental_get_tracing_count\u001b[0m\u001b[0;34m(\u001b[0m\u001b[0;34m)\u001b[0m\u001b[0;34m\u001b[0m\u001b[0;34m\u001b[0m\u001b[0m\n",
            "\u001b[0;32m/usr/local/lib/python3.7/dist-packages/tensorflow/python/eager/def_function.py\u001b[0m in \u001b[0;36m_call\u001b[0;34m(self, *args, **kwds)\u001b[0m\n\u001b[1;32m    952\u001b[0m       \u001b[0;31m# In this case we have not created variables on the first call. So we can\u001b[0m\u001b[0;34m\u001b[0m\u001b[0;34m\u001b[0m\u001b[0;34m\u001b[0m\u001b[0m\n\u001b[1;32m    953\u001b[0m       \u001b[0;31m# run the first trace but we should fail if variables are created.\u001b[0m\u001b[0;34m\u001b[0m\u001b[0;34m\u001b[0m\u001b[0;34m\u001b[0m\u001b[0m\n\u001b[0;32m--> 954\u001b[0;31m       \u001b[0mresults\u001b[0m \u001b[0;34m=\u001b[0m \u001b[0mself\u001b[0m\u001b[0;34m.\u001b[0m\u001b[0m_stateful_fn\u001b[0m\u001b[0;34m(\u001b[0m\u001b[0;34m*\u001b[0m\u001b[0margs\u001b[0m\u001b[0;34m,\u001b[0m \u001b[0;34m**\u001b[0m\u001b[0mkwds\u001b[0m\u001b[0;34m)\u001b[0m\u001b[0;34m\u001b[0m\u001b[0;34m\u001b[0m\u001b[0m\n\u001b[0m\u001b[1;32m    955\u001b[0m       \u001b[0;32mif\u001b[0m \u001b[0mself\u001b[0m\u001b[0;34m.\u001b[0m\u001b[0m_created_variables\u001b[0m \u001b[0;32mand\u001b[0m \u001b[0;32mnot\u001b[0m \u001b[0mALLOW_DYNAMIC_VARIABLE_CREATION\u001b[0m\u001b[0;34m:\u001b[0m\u001b[0;34m\u001b[0m\u001b[0;34m\u001b[0m\u001b[0m\n\u001b[1;32m    956\u001b[0m         raise ValueError(\"Creating variables on a non-first call to a function\"\n",
            "\u001b[0;32m/usr/local/lib/python3.7/dist-packages/tensorflow/python/eager/function.py\u001b[0m in \u001b[0;36m__call__\u001b[0;34m(self, *args, **kwargs)\u001b[0m\n\u001b[1;32m   2955\u001b[0m        filtered_flat_args) = self._maybe_define_function(args, kwargs)\n\u001b[1;32m   2956\u001b[0m     return graph_function._call_flat(\n\u001b[0;32m-> 2957\u001b[0;31m         filtered_flat_args, captured_inputs=graph_function.captured_inputs)  # pylint: disable=protected-access\n\u001b[0m\u001b[1;32m   2958\u001b[0m \u001b[0;34m\u001b[0m\u001b[0m\n\u001b[1;32m   2959\u001b[0m   \u001b[0;34m@\u001b[0m\u001b[0mproperty\u001b[0m\u001b[0;34m\u001b[0m\u001b[0;34m\u001b[0m\u001b[0m\n",
            "\u001b[0;32m/usr/local/lib/python3.7/dist-packages/tensorflow/python/eager/function.py\u001b[0m in \u001b[0;36m_call_flat\u001b[0;34m(self, args, captured_inputs, cancellation_manager)\u001b[0m\n\u001b[1;32m   1852\u001b[0m       \u001b[0;31m# No tape is watching; skip to running the function.\u001b[0m\u001b[0;34m\u001b[0m\u001b[0;34m\u001b[0m\u001b[0;34m\u001b[0m\u001b[0m\n\u001b[1;32m   1853\u001b[0m       return self._build_call_outputs(self._inference_function.call(\n\u001b[0;32m-> 1854\u001b[0;31m           ctx, args, cancellation_manager=cancellation_manager))\n\u001b[0m\u001b[1;32m   1855\u001b[0m     forward_backward = self._select_forward_and_backward_functions(\n\u001b[1;32m   1856\u001b[0m         \u001b[0margs\u001b[0m\u001b[0;34m,\u001b[0m\u001b[0;34m\u001b[0m\u001b[0;34m\u001b[0m\u001b[0m\n",
            "\u001b[0;32m/usr/local/lib/python3.7/dist-packages/tensorflow/python/eager/function.py\u001b[0m in \u001b[0;36mcall\u001b[0;34m(self, ctx, args, cancellation_manager)\u001b[0m\n\u001b[1;32m    502\u001b[0m               \u001b[0minputs\u001b[0m\u001b[0;34m=\u001b[0m\u001b[0margs\u001b[0m\u001b[0;34m,\u001b[0m\u001b[0;34m\u001b[0m\u001b[0;34m\u001b[0m\u001b[0m\n\u001b[1;32m    503\u001b[0m               \u001b[0mattrs\u001b[0m\u001b[0;34m=\u001b[0m\u001b[0mattrs\u001b[0m\u001b[0;34m,\u001b[0m\u001b[0;34m\u001b[0m\u001b[0;34m\u001b[0m\u001b[0m\n\u001b[0;32m--> 504\u001b[0;31m               ctx=ctx)\n\u001b[0m\u001b[1;32m    505\u001b[0m         \u001b[0;32melse\u001b[0m\u001b[0;34m:\u001b[0m\u001b[0;34m\u001b[0m\u001b[0;34m\u001b[0m\u001b[0m\n\u001b[1;32m    506\u001b[0m           outputs = execute.execute_with_cancellation(\n",
            "\u001b[0;32m/usr/local/lib/python3.7/dist-packages/tensorflow/python/eager/execute.py\u001b[0m in \u001b[0;36mquick_execute\u001b[0;34m(op_name, num_outputs, inputs, attrs, ctx, name)\u001b[0m\n\u001b[1;32m     53\u001b[0m     \u001b[0mctx\u001b[0m\u001b[0;34m.\u001b[0m\u001b[0mensure_initialized\u001b[0m\u001b[0;34m(\u001b[0m\u001b[0;34m)\u001b[0m\u001b[0;34m\u001b[0m\u001b[0;34m\u001b[0m\u001b[0m\n\u001b[1;32m     54\u001b[0m     tensors = pywrap_tfe.TFE_Py_Execute(ctx._handle, device_name, op_name,\n\u001b[0;32m---> 55\u001b[0;31m                                         inputs, attrs, num_outputs)\n\u001b[0m\u001b[1;32m     56\u001b[0m   \u001b[0;32mexcept\u001b[0m \u001b[0mcore\u001b[0m\u001b[0;34m.\u001b[0m\u001b[0m_NotOkStatusException\u001b[0m \u001b[0;32mas\u001b[0m \u001b[0me\u001b[0m\u001b[0;34m:\u001b[0m\u001b[0;34m\u001b[0m\u001b[0;34m\u001b[0m\u001b[0m\n\u001b[1;32m     57\u001b[0m     \u001b[0;32mif\u001b[0m \u001b[0mname\u001b[0m \u001b[0;32mis\u001b[0m \u001b[0;32mnot\u001b[0m \u001b[0;32mNone\u001b[0m\u001b[0;34m:\u001b[0m\u001b[0;34m\u001b[0m\u001b[0;34m\u001b[0m\u001b[0m\n",
            "\u001b[0;31mKeyboardInterrupt\u001b[0m: "
          ]
        }
      ]
    },
    {
      "cell_type": "code",
      "source": [],
      "metadata": {
        "id": "LZeBD-HUr4Wo"
      },
      "execution_count": null,
      "outputs": []
    },
    {
      "cell_type": "code",
      "source": [
        "\n",
        "\n"
      ],
      "metadata": {
        "id": "nJAij7U1F__q"
      },
      "execution_count": null,
      "outputs": []
    },
    {
      "cell_type": "code",
      "source": [],
      "metadata": {
        "id": "SDAuOID_MIBF"
      },
      "execution_count": null,
      "outputs": []
    },
    {
      "cell_type": "code",
      "source": [],
      "metadata": {
        "id": "fUBLUsoGHtq0"
      },
      "execution_count": null,
      "outputs": []
    },
    {
      "cell_type": "code",
      "source": [],
      "metadata": {
        "id": "MNxfq0dmHuGu"
      },
      "execution_count": null,
      "outputs": []
    },
    {
      "cell_type": "code",
      "source": [],
      "metadata": {
        "id": "YDx3McZAHuOH"
      },
      "execution_count": null,
      "outputs": []
    },
    {
      "cell_type": "code",
      "source": [],
      "metadata": {
        "id": "CKsYsGa28jWw"
      },
      "execution_count": null,
      "outputs": []
    },
    {
      "cell_type": "code",
      "source": [],
      "metadata": {
        "id": "rpx43LHpKcvD"
      },
      "execution_count": null,
      "outputs": []
    },
    {
      "cell_type": "code",
      "source": [],
      "metadata": {
        "id": "jf-FFXIA0keM"
      },
      "execution_count": null,
      "outputs": []
    },
    {
      "cell_type": "code",
      "source": [],
      "metadata": {
        "id": "JfD9BLdjGH0E"
      },
      "execution_count": null,
      "outputs": []
    },
    {
      "cell_type": "code",
      "source": [],
      "metadata": {
        "id": "Z3eSN_MCMKit"
      },
      "execution_count": null,
      "outputs": []
    },
    {
      "cell_type": "code",
      "source": [],
      "metadata": {
        "id": "PGDLHYAlMI9p"
      },
      "execution_count": null,
      "outputs": []
    },
    {
      "cell_type": "code",
      "source": [],
      "metadata": {
        "id": "4AMm4IArKtlr"
      },
      "execution_count": null,
      "outputs": []
    },
    {
      "cell_type": "code",
      "source": [],
      "metadata": {
        "id": "1akX9-GsKsHt"
      },
      "execution_count": null,
      "outputs": []
    },
    {
      "cell_type": "code",
      "source": [],
      "metadata": {
        "id": "TiAm9QDTKqv7"
      },
      "execution_count": null,
      "outputs": []
    },
    {
      "cell_type": "code",
      "source": [],
      "metadata": {
        "id": "LzB22uB_Kqyx"
      },
      "execution_count": null,
      "outputs": []
    },
    {
      "cell_type": "code",
      "source": [],
      "metadata": {
        "id": "cNowE_deKq1p"
      },
      "execution_count": null,
      "outputs": []
    },
    {
      "cell_type": "code",
      "source": [],
      "metadata": {
        "id": "3YofGigJ0AFY"
      },
      "execution_count": null,
      "outputs": []
    },
    {
      "cell_type": "code",
      "source": [],
      "metadata": {
        "id": "9xZuu6BYo9S4"
      },
      "execution_count": null,
      "outputs": []
    },
    {
      "cell_type": "code",
      "execution_count": null,
      "metadata": {
        "id": "FTNrF8FY4xO3"
      },
      "outputs": [],
      "source": []
    },
    {
      "cell_type": "code",
      "source": [
        "model1=load_model('model_3_class.h5')"
      ],
      "metadata": {
        "id": "4J6LEUXAr6n5"
      },
      "execution_count": null,
      "outputs": []
    },
    {
      "cell_type": "code",
      "source": [
        "from keras.callbacks import ModelCheckpoint\n",
        "filepath=\"/content/path/weights-improvement-{epoch:02d}-{val_accuracy:.2f}.hdf5\" #File name includes epoch and validation accuracy.\n",
        "#Use Mode = max for accuracy and min for loss. \n",
        "checkpoint = ModelCheckpoint(filepath, monitor='val_accuracy', verbose=1, save_best_only=True, mode='max')\n",
        "call_backs=[checkpoint]"
      ],
      "metadata": {
        "id": "6NS_BA6zNwAb"
      },
      "execution_count": null,
      "outputs": []
    },
    {
      "cell_type": "code",
      "source": [],
      "metadata": {
        "colab": {
          "base_uri": "https://localhost:8080/"
        },
        "id": "BIbmxpBe2aEF",
        "outputId": "9dbd151f-4ba6-4a29-d30b-1f965ef422a1"
      },
      "execution_count": null,
      "outputs": [
        {
          "output_type": "stream",
          "name": "stdout",
          "text": [
            "Epoch 1/30\n",
            "\n",
            "Epoch 1: val_accuracy improved from -inf to 0.83556, saving model to /content/path/weights-improvement-01-0.84.hdf5\n",
            "68/68 - 25s - loss: 0.3794 - accuracy: 0.8397 - val_loss: 0.3968 - val_accuracy: 0.8356 - 25s/epoch - 371ms/step\n",
            "Epoch 2/30\n",
            "\n",
            "Epoch 2: val_accuracy did not improve from 0.83556\n",
            "68/68 - 24s - loss: 0.3654 - accuracy: 0.8519 - val_loss: 0.4655 - val_accuracy: 0.8231 - 24s/epoch - 356ms/step\n",
            "Epoch 3/30\n",
            "\n",
            "Epoch 3: val_accuracy did not improve from 0.83556\n",
            "68/68 - 24s - loss: 0.3639 - accuracy: 0.8527 - val_loss: 0.4526 - val_accuracy: 0.8338 - 24s/epoch - 355ms/step\n",
            "Epoch 4/30\n",
            "\n",
            "Epoch 4: val_accuracy did not improve from 0.83556\n",
            "68/68 - 24s - loss: 0.3501 - accuracy: 0.8569 - val_loss: 0.4665 - val_accuracy: 0.8169 - 24s/epoch - 354ms/step\n",
            "Epoch 5/30\n",
            "\n",
            "Epoch 5: val_accuracy did not improve from 0.83556\n",
            "68/68 - 24s - loss: 0.3595 - accuracy: 0.8542 - val_loss: 0.5019 - val_accuracy: 0.8151 - 24s/epoch - 356ms/step\n",
            "Epoch 6/30\n",
            "\n",
            "Epoch 6: val_accuracy did not improve from 0.83556\n",
            "68/68 - 24s - loss: 0.3593 - accuracy: 0.8527 - val_loss: 0.4690 - val_accuracy: 0.8053 - 24s/epoch - 354ms/step\n",
            "Epoch 7/30\n",
            "\n",
            "Epoch 7: val_accuracy did not improve from 0.83556\n",
            "68/68 - 24s - loss: 0.3459 - accuracy: 0.8566 - val_loss: 0.4411 - val_accuracy: 0.8347 - 24s/epoch - 354ms/step\n",
            "Epoch 8/30\n",
            "\n",
            "Epoch 8: val_accuracy did not improve from 0.83556\n",
            "68/68 - 24s - loss: 0.3427 - accuracy: 0.8631 - val_loss: 0.5371 - val_accuracy: 0.7902 - 24s/epoch - 353ms/step\n",
            "Epoch 9/30\n",
            "\n",
            "Epoch 9: val_accuracy did not improve from 0.83556\n",
            "68/68 - 24s - loss: 0.3395 - accuracy: 0.8625 - val_loss: 0.4468 - val_accuracy: 0.8329 - 24s/epoch - 353ms/step\n",
            "Epoch 10/30\n",
            "\n",
            "Epoch 10: val_accuracy did not improve from 0.83556\n",
            "68/68 - 24s - loss: 0.3287 - accuracy: 0.8732 - val_loss: 0.5074 - val_accuracy: 0.7947 - 24s/epoch - 354ms/step\n",
            "Epoch 11/30\n",
            "\n",
            "Epoch 11: val_accuracy did not improve from 0.83556\n",
            "68/68 - 24s - loss: 0.3409 - accuracy: 0.8646 - val_loss: 0.5221 - val_accuracy: 0.7982 - 24s/epoch - 355ms/step\n",
            "Epoch 12/30\n",
            "\n",
            "Epoch 12: val_accuracy did not improve from 0.83556\n",
            "68/68 - 24s - loss: 0.3318 - accuracy: 0.8619 - val_loss: 0.4580 - val_accuracy: 0.8222 - 24s/epoch - 353ms/step\n",
            "Epoch 13/30\n",
            "\n",
            "Epoch 13: val_accuracy did not improve from 0.83556\n",
            "68/68 - 24s - loss: 0.3236 - accuracy: 0.8619 - val_loss: 0.4315 - val_accuracy: 0.8338 - 24s/epoch - 354ms/step\n",
            "Epoch 14/30\n",
            "\n",
            "Epoch 14: val_accuracy did not improve from 0.83556\n",
            "68/68 - 24s - loss: 0.3233 - accuracy: 0.8676 - val_loss: 0.6595 - val_accuracy: 0.7529 - 24s/epoch - 354ms/step\n",
            "Epoch 15/30\n",
            "\n",
            "Epoch 15: val_accuracy did not improve from 0.83556\n",
            "68/68 - 24s - loss: 0.3302 - accuracy: 0.8681 - val_loss: 0.4589 - val_accuracy: 0.8124 - 24s/epoch - 353ms/step\n",
            "Epoch 16/30\n",
            "\n",
            "Epoch 16: val_accuracy did not improve from 0.83556\n",
            "68/68 - 24s - loss: 0.3075 - accuracy: 0.8764 - val_loss: 0.5919 - val_accuracy: 0.7947 - 24s/epoch - 353ms/step\n",
            "Epoch 17/30\n",
            "\n",
            "Epoch 17: val_accuracy did not improve from 0.83556\n",
            "68/68 - 24s - loss: 0.3082 - accuracy: 0.8800 - val_loss: 0.4904 - val_accuracy: 0.8169 - 24s/epoch - 353ms/step\n",
            "Epoch 18/30\n",
            "\n",
            "Epoch 18: val_accuracy did not improve from 0.83556\n",
            "68/68 - 24s - loss: 0.3082 - accuracy: 0.8759 - val_loss: 0.5083 - val_accuracy: 0.8080 - 24s/epoch - 354ms/step\n",
            "Epoch 19/30\n",
            "\n",
            "Epoch 19: val_accuracy did not improve from 0.83556\n",
            "68/68 - 24s - loss: 0.2838 - accuracy: 0.8907 - val_loss: 0.4732 - val_accuracy: 0.8311 - 24s/epoch - 354ms/step\n",
            "Epoch 20/30\n",
            "\n",
            "Epoch 20: val_accuracy did not improve from 0.83556\n",
            "68/68 - 24s - loss: 0.2958 - accuracy: 0.8773 - val_loss: 0.4583 - val_accuracy: 0.8080 - 24s/epoch - 354ms/step\n",
            "Epoch 21/30\n",
            "\n",
            "Epoch 21: val_accuracy did not improve from 0.83556\n",
            "68/68 - 24s - loss: 0.2843 - accuracy: 0.8898 - val_loss: 0.6742 - val_accuracy: 0.7787 - 24s/epoch - 355ms/step\n",
            "Epoch 22/30\n",
            "\n",
            "Epoch 22: val_accuracy did not improve from 0.83556\n",
            "68/68 - 24s - loss: 0.2755 - accuracy: 0.8904 - val_loss: 0.4859 - val_accuracy: 0.8347 - 24s/epoch - 352ms/step\n",
            "Epoch 23/30\n",
            "\n",
            "Epoch 23: val_accuracy did not improve from 0.83556\n",
            "68/68 - 24s - loss: 0.2723 - accuracy: 0.8880 - val_loss: 0.7169 - val_accuracy: 0.7564 - 24s/epoch - 353ms/step\n",
            "Epoch 24/30\n",
            "\n",
            "Epoch 24: val_accuracy did not improve from 0.83556\n",
            "68/68 - 24s - loss: 0.2666 - accuracy: 0.8945 - val_loss: 0.4361 - val_accuracy: 0.8347 - 24s/epoch - 353ms/step\n",
            "Epoch 25/30\n",
            "\n",
            "Epoch 25: val_accuracy did not improve from 0.83556\n",
            "68/68 - 24s - loss: 0.2784 - accuracy: 0.8910 - val_loss: 0.5760 - val_accuracy: 0.8044 - 24s/epoch - 354ms/step\n",
            "Epoch 26/30\n",
            "\n",
            "Epoch 26: val_accuracy did not improve from 0.83556\n",
            "68/68 - 24s - loss: 0.2598 - accuracy: 0.8939 - val_loss: 0.6473 - val_accuracy: 0.7733 - 24s/epoch - 354ms/step\n",
            "Epoch 27/30\n",
            "\n",
            "Epoch 27: val_accuracy did not improve from 0.83556\n",
            "68/68 - 24s - loss: 0.2671 - accuracy: 0.8963 - val_loss: 0.5948 - val_accuracy: 0.8107 - 24s/epoch - 354ms/step\n",
            "Epoch 28/30\n",
            "\n",
            "Epoch 28: val_accuracy did not improve from 0.83556\n",
            "68/68 - 24s - loss: 0.2708 - accuracy: 0.9004 - val_loss: 0.5005 - val_accuracy: 0.8311 - 24s/epoch - 352ms/step\n",
            "Epoch 29/30\n",
            "\n",
            "Epoch 29: val_accuracy did not improve from 0.83556\n",
            "68/68 - 24s - loss: 0.2534 - accuracy: 0.9010 - val_loss: 0.7460 - val_accuracy: 0.7520 - 24s/epoch - 353ms/step\n",
            "Epoch 30/30\n",
            "\n",
            "Epoch 30: val_accuracy did not improve from 0.83556\n",
            "68/68 - 24s - loss: 0.2631 - accuracy: 0.8978 - val_loss: 0.5710 - val_accuracy: 0.7947 - 24s/epoch - 355ms/step\n"
          ]
        }
      ]
    },
    {
      "cell_type": "code",
      "source": [
        "acc = hist.history['accuracy']\n",
        "val_acc = hist.history['val_accuracy']\n",
        "loss = hist.history['loss']\n",
        "val_loss = hist.history['val_loss']"
      ],
      "metadata": {
        "id": "59oKFP08YUg2"
      },
      "execution_count": null,
      "outputs": []
    },
    {
      "cell_type": "code",
      "source": [
        "epochs = range(len(acc))\n",
        "\n",
        "plt.plot(epochs, acc, 'r', label='Training accuracy')\n",
        "plt.plot(epochs, val_acc, 'b', label='Validation accuracy')\n",
        "plt.title('Training and validation accuracy')\n",
        "plt.legend(loc=0)\n",
        "plt.figure(figsize=(6,6))"
      ],
      "metadata": {
        "colab": {
          "base_uri": "https://localhost:8080/",
          "height": 318
        },
        "id": "2gLwmrUOYvFI",
        "outputId": "baf177b0-23fa-405e-f22e-be622a7f1add"
      },
      "execution_count": null,
      "outputs": [
        {
          "output_type": "execute_result",
          "data": {
            "text/plain": [
              "<Figure size 432x432 with 0 Axes>"
            ]
          },
          "metadata": {},
          "execution_count": 23
        },
        {
          "output_type": "display_data",
          "data": {
            "text/plain": [
              "<Figure size 432x288 with 1 Axes>"
            ],
            "image/png": "[encoded data removed]"
          },
          "metadata": {
            "needs_background": "light"
          }
        },
        {
          "output_type": "display_data",
          "data": {
            "text/plain": [
              "<Figure size 432x432 with 0 Axes>"
            ]
          },
          "metadata": {}
        }
      ]
    },
    {
      "cell_type": "code",
      "source": [
        "plt.plot(epochs, loss, 'r', label='Training loss')\n",
        "plt.plot(epochs, val_loss, 'b', label='Validation loss')\n",
        "plt.title('Training and validation loss')\n",
        "plt.legend(loc=0)\n",
        "plt.figure(figsize=(6,6))"
      ],
      "metadata": {
        "id": "FG0GsoEWZKRC",
        "outputId": "d40a734e-126f-47f0-dd12-59262098a58a",
        "colab": {
          "base_uri": "https://localhost:8080/",
          "height": 318
        }
      },
      "execution_count": null,
      "outputs": [
        {
          "output_type": "execute_result",
          "data": {
            "text/plain": [
              "<Figure size 432x432 with 0 Axes>"
            ]
          },
          "metadata": {},
          "execution_count": 24
        },
        {
          "output_type": "display_data",
          "data": {
            "text/plain": [
              "<Figure size 432x288 with 1 Axes>"
            ],
            "image/png": "[encoded data removed]"
          },
          "metadata": {
            "needs_background": "light"
          }
        },
        {
          "output_type": "display_data",
          "data": {
            "text/plain": [
              "<Figure size 432x432 with 0 Axes>"
            ]
          },
          "metadata": {}
        }
      ]
    }
  ],
  "metadata": {
    "accelerator": "GPU",
    "colab": {
      "collapsed_sections": [],
      "provenance": [],
      "machine_shape": "hm"
    },
    "gpuClass": "standard",
    "kernelspec": {
      "display_name": "Python 3",
      "name": "python3"
    },
    "language_info": {
      "name": "python"
    }
  },
  "nbformat": 4,
  "nbformat_minor": 0
}