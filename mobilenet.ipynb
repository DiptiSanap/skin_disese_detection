{
  "cells": [
    {
      "cell_type": "code",
      "execution_count": null,
      "metadata": {
        "id": "fee7Wd0MXRbr"
      },
      "outputs": [],
      "source": [
        "import warnings\n",
        "import tensorflow as tf\n",
        "warnings.filterwarnings('ignore')\n",
        "import numpy as np\n",
        "import matplotlib.pyplot as plt\n",
        "import keras\n",
        "# Importing all necessary libraries\n",
        "from keras.preprocessing.image import ImageDataGenerator\n",
        "from keras.models import Sequential\n",
        "from keras.layers import Activation,Dropout,Flatten,Dense,MaxPool2D\n",
        "from keras import backend as K\n",
        "#from keras.datasets import mnist\n",
        "from keras.models import Sequential\n",
        "from keras.layers import Dense\n",
        "#from keras.optimizers import Adam\n",
        "import keras\n",
        "from keras.datasets import cifar10\n",
        "from keras.models import Model\n",
        "from keras.layers import Dense, Dropout, Activation, BatchNormalization, Flatten\n",
        "from keras.callbacks import ModelCheckpoint, ReduceLROnPlateau\n",
        "from keras.layers import Conv2D, MaxPooling2D\n",
        "#from keras.optimizers import Adam\n",
        "#!pip install -U git+https://github.com/qubvel/efficientnet\n",
        "#import efficientnet.keras as enet\n",
        "from keras.utils.np_utils import to_categorical\n",
        "import pandas as pd\n",
        "from tensorflow.keras.layers import Input\n"
      ]
    },
    {
      "cell_type": "code",
      "execution_count": null,
      "metadata": {
        "id": "8dxd2otQY-DQ"
      },
      "outputs": [],
      "source": [
        "#!pip install h5py==2.10.0"
      ]
    },
    {
      "cell_type": "code",
      "source": [
        "# mount Google Drive\n",
        "from google.colab import drive\n",
        "drive.mount('/content/gdrive')"
      ],
      "metadata": {
        "colab": {
          "base_uri": "https://localhost:8080/"
        },
        "id": "r8QUpHgwsHhp",
        "outputId": "3f7aede9-4335-44db-dbff-e108f4dfe77a"
      },
      "execution_count": null,
      "outputs": [
        {
          "output_type": "stream",
          "name": "stdout",
          "text": [
            "Mounted at /content/gdrive\n"
          ]
        }
      ]
    },
    {
      "cell_type": "code",
      "execution_count": null,
      "metadata": {
        "id": "69lNK_jhrppU"
      },
      "outputs": [],
      "source": [
        "from keras.preprocessing.image import load_img\n",
        "import glob\n",
        "data=[]\n",
        "labels=[]\n",
        "bkl = glob.glob('/content/gdrive/MyDrive/3class_dataset/train/bkl/*.jpg')\n",
        "mel= glob.glob('/content/gdrive/MyDrive/3class_dataset/train/mel/*.jpg')\n",
        "nv = glob.glob('/content/gdrive/MyDrive/3class_dataset/train/nv/*.jpg')\n",
        "\n",
        "\n"
      ]
    },
    {
      "cell_type": "code",
      "source": [
        "for i in bkl:\n",
        "  image=load_img(i, target_size= (224,224)) \n",
        "  image=np.asarray(image)\n",
        "  data.append(image)\n",
        "  labels.append(0)\n",
        "\n",
        "for i in mel:\n",
        "  image=load_img(i, target_size= (224,224)) \n",
        "  image=np.asarray(image)\n",
        "  data.append(image)\n",
        "  labels.append(1)\n",
        "  \n",
        "for i in nv:\n",
        "  image=load_img(i, target_size= (224,224)) \n",
        "  image=np.asarray(image)\n",
        "  data.append(image)\n",
        "  labels.append(2)\n",
        "\n"
      ],
      "metadata": {
        "id": "XS9reWrHO4Bv"
      },
      "execution_count": null,
      "outputs": []
    },
    {
      "cell_type": "code",
      "source": [
        "\n",
        "\n",
        "bkl1 = glob.glob('/content/gdrive/MyDrive/3class_dataset/test/bkl/*.jpg')\n",
        "mel1= glob.glob('/content/gdrive/MyDrive/3class_dataset/test/mel/*.jpg')\n",
        "nv1 = glob.glob('/content/gdrive/MyDrive/3class_dataset/test/nv/*.jpg')\n",
        "\n",
        "for i in bkl1:\n",
        "  image=load_img(i, target_size= (224,224)) \n",
        "  image=np.asarray(image)\n",
        "  data.append(image)\n",
        "  labels.append(0)"
      ],
      "metadata": {
        "id": "0gYFq80HRepS"
      },
      "execution_count": null,
      "outputs": []
    },
    {
      "cell_type": "code",
      "source": [
        "for i in mel1:\n",
        "  image=load_img(i, target_size= (224,224)) \n",
        "  image=np.asarray(image)\n",
        "  data.append(image)\n",
        "  labels.append(1)\n",
        "for i in nv1:\n",
        "  image=load_img(i, target_size= (224,224)) \n",
        "  image=np.asarray(image)\n",
        "  data.append(image)\n",
        "  labels.append(2)"
      ],
      "metadata": {
        "id": "0I86HR8IRXAU"
      },
      "execution_count": null,
      "outputs": []
    },
    {
      "cell_type": "code",
      "source": [
        "df=pd.DataFrame({'data':data,'labels':labels})\n",
        "df2 = df.sample(frac = 1)\n",
        "data1=np.asarray(df2.iloc[:,0].tolist())\n",
        "labels1=np.asarray(df2.iloc[:,1].tolist())"
      ],
      "metadata": {
        "id": "X0h42VIbSkis"
      },
      "execution_count": null,
      "outputs": []
    },
    {
      "cell_type": "code",
      "source": [
        "from keras.utils.np_utils import to_categorical\n",
        "#y_test=data1\n",
        "cat_labels = to_categorical(labels1, num_classes=3)\n",
        "data1=data1/255\n",
        "from sklearn.model_selection import train_test_split\n",
        "x_train,x_test,y_train,y_test=train_test_split(data1, cat_labels, test_size=0.25, random_state=250)\n",
        "x_train.shape\n"
      ],
      "metadata": {
        "colab": {
          "base_uri": "https://localhost:8080/"
        },
        "id": "fqZ7h_W8TCvV",
        "outputId": "a0b688f8-84d2-496f-a7dc-fe1114e58971"
      },
      "execution_count": null,
      "outputs": [
        {
          "output_type": "execute_result",
          "data": {
            "text/plain": [
              "(3375, 224, 224, 3)"
            ]
          },
          "metadata": {},
          "execution_count": 9
        }
      ]
    },
    {
      "cell_type": "code",
      "source": [
        "y_test.shape"
      ],
      "metadata": {
        "colab": {
          "base_uri": "https://localhost:8080/"
        },
        "id": "ITdBIRoGevou",
        "outputId": "2de424f6-a780-4b53-fc84-5dd5e7b907b3"
      },
      "execution_count": null,
      "outputs": [
        {
          "output_type": "execute_result",
          "data": {
            "text/plain": [
              "(1125, 3)"
            ]
          },
          "metadata": {},
          "execution_count": 24
        }
      ]
    },
    {
      "cell_type": "code",
      "source": [
        "from tensorflow.keras.applications.mobilenet import MobileNet\n",
        "from tensorflow.keras.models import Model\n",
        "from tensorflow.keras.layers import Dense, GlobalAveragePooling2D"
      ],
      "metadata": {
        "id": "LZeBD-HUr4Wo"
      },
      "execution_count": null,
      "outputs": []
    },
    {
      "cell_type": "code",
      "source": [
        "dataAugmentaion = ImageDataGenerator(rotation_range = 30, zoom_range = 0.20, \n",
        "fill_mode = \"nearest\", shear_range = 0.20, horizontal_flip = True, \n",
        "width_shift_range = 0.1, height_shift_range = 0.1)\n",
        "\n"
      ],
      "metadata": {
        "id": "nJAij7U1F__q"
      },
      "execution_count": null,
      "outputs": []
    },
    {
      "cell_type": "code",
      "source": [
        "base_model =tf.keras.applications.MobileNet(input_shape=(224,224,3),weights='imagenet', include_top=False)\n",
        "\n",
        "# add a global spatial average pooling layer\n",
        "x = base_model.output\n",
        "x = GlobalAveragePooling2D()(x)\n",
        "# let's add a fully-connected layer\n",
        "x = Dense(1024, activation='relu')(x)\n",
        "# and a logistic layer -- let's say we have 200 classes\n",
        "predictions = Dense(3, activation='softmax')(x)\n",
        "\n",
        "# this is the model we will train\n",
        "model = Model(inputs=base_model.input, outputs=predictions)\n",
        "\n",
        "# first: train only the top layers (which were randomly initialized)\n",
        "# i.e. freeze all convolutional InceptionV3 layers\n",
        "for layer in base_model.layers:\n",
        "    layer.trainable = False"
      ],
      "metadata": {
        "colab": {
          "base_uri": "https://localhost:8080/"
        },
        "id": "CKsYsGa28jWw",
        "outputId": "295c268e-8897-4620-e856-9205f56e9745"
      },
      "execution_count": null,
      "outputs": [
        {
          "output_type": "stream",
          "name": "stdout",
          "text": [
            "Downloading data from https://storage.googleapis.com/tensorflow/keras-applications/mobilenet/mobilenet_1_0_224_tf_no_top.h5\n",
            "17227776/17225924 [==============================] - 0s 0us/step\n",
            "17235968/17225924 [==============================] - 0s 0us/step\n"
          ]
        }
      ]
    },
    {
      "cell_type": "code",
      "source": [
        "model.compile(optimizer=\"adam\", loss=\"categorical_crossentropy\", metrics=[\"accuracy\"])"
      ],
      "metadata": {
        "id": "jf-FFXIA0keM"
      },
      "execution_count": null,
      "outputs": []
    },
    {
      "cell_type": "code",
      "source": [
        "# training the model\n",
        "model.fit_generator(dataAugmentaion.flow(x_train, y_train, batch_size = 32),\n",
        " validation_data = (x_test,y_test), steps_per_epoch = len(x_train) // 32,\n",
        " epochs = 10)"
      ],
      "metadata": {
        "id": "JfD9BLdjGH0E"
      },
      "execution_count": null,
      "outputs": []
    },
    {
      "cell_type": "code",
      "source": [
        "# from tensorflow.keras.applications.inception_v3 import InceptionV3\n",
        "# from tensorflow.keras.layers import Input\n",
        "\n",
        "# # this could also be the output a different Keras model or layer\n",
        "# input_tensor = Input(shape=(224, 224, 3))\n",
        "\n",
        "# model = InceptionV3(input_tensor=input_tensor, weights=None, include_top=True,classes=3,classifier_activation='softmax')"
      ],
      "metadata": {
        "id": "3YofGigJ0AFY"
      },
      "execution_count": null,
      "outputs": []
    },
    {
      "cell_type": "code",
      "source": [
        "batch_size = 15\n",
        "epochs =70\n",
        "\n",
        "hist = model.fit(\n",
        "    x_train,y_train,\n",
        "    epochs=epochs,\n",
        "    batch_size = batch_size,\n",
        "    validation_data=(x_test,y_test),\n",
        "    verbose=2)"
      ],
      "metadata": {
        "id": "9xZuu6BYo9S4"
      },
      "execution_count": null,
      "outputs": []
    },
    {
      "cell_type": "code",
      "source": [
        "acc = hist.history['accuracy']\n",
        "val_acc = hist.history['val_accuracy']\n",
        "loss = hist.history['loss']\n",
        "val_loss = hist.history['val_loss']"
      ],
      "metadata": {
        "id": "59oKFP08YUg2"
      },
      "execution_count": null,
      "outputs": []
    },
    {
      "cell_type": "code",
      "source": [
        "epochs = range(len(acc))\n",
        "\n",
        "plt.plot(epochs, acc, 'r', label='Training accuracy')\n",
        "plt.plot(epochs, val_acc, 'b', label='Validation accuracy')\n",
        "plt.title('Training and validation accuracy')\n",
        "plt.legend(loc=0)\n",
        "plt.figure(figsize=(6,6))"
      ],
      "metadata": {
        "colab": {
          "base_uri": "https://localhost:8080/",
          "height": 318
        },
        "id": "2gLwmrUOYvFI",
        "outputId": "baf177b0-23fa-405e-f22e-be622a7f1add"
      },
      "execution_count": null,
      "outputs": [
        {
          "output_type": "execute_result",
          "data": {
            "text/plain": [
              "<Figure size 432x432 with 0 Axes>"
            ]
          },
          "metadata": {},
          "execution_count": 23
        },
        {
          "output_type": "display_data",
          "data": {
            "text/plain": [
              "<Figure size 432x288 with 1 Axes>"
            ],
            "image/png": "[encoded data removed]"
          },
          "metadata": {
            "needs_background": "light"
          }
        },
        {
          "output_type": "display_data",
          "data": {
            "text/plain": [
              "<Figure size 432x432 with 0 Axes>"
            ]
          },
          "metadata": {}
        }
      ]
    },
    {
      "cell_type": "code",
      "source": [
        "plt.plot(epochs, loss, 'r', label='Training loss')\n",
        "plt.plot(epochs, val_loss, 'b', label='Validation loss')\n",
        "plt.title('Training and validation loss')\n",
        "plt.legend(loc=0)\n",
        "plt.figure(figsize=(6,6))"
      ],
      "metadata": {
        "id": "FG0GsoEWZKRC",
        "outputId": "d40a734e-126f-47f0-dd12-59262098a58a",
        "colab": {
          "base_uri": "https://localhost:8080/",
          "height": 318
        }
      },
      "execution_count": null,
      "outputs": [
        {
          "output_type": "execute_result",
          "data": {
            "text/plain": [
              "<Figure size 432x432 with 0 Axes>"
            ]
          },
          "metadata": {},
          "execution_count": 24
        },
        {
          "output_type": "display_data",
          "data": {
            "text/plain": [
              "<Figure size 432x288 with 1 Axes>"
            ],
            "image/png": "[encoded data removed]"
          },
          "metadata": {
            "needs_background": "light"
          }
        },
        {
          "output_type": "display_data",
          "data": {
            "text/plain": [
              "<Figure size 432x432 with 0 Axes>"
            ]
          },
          "metadata": {}
        }
      ]
    }
  ],
  "metadata": {
    "accelerator": "GPU",
    "colab": {
      "collapsed_sections": [],
      "provenance": [],
      "machine_shape": "hm"
    },
    "gpuClass": "standard",
    "kernelspec": {
      "display_name": "Python 3",
      "name": "python3"
    },
    "language_info": {
      "name": "python"
    }
  },
  "nbformat": 4,
  "nbformat_minor": 0
}