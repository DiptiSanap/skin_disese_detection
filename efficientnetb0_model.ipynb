{
  "cells": [
    {
      "cell_type": "code",
      "execution_count": null,
      "metadata": {
        "id": "fee7Wd0MXRbr"
      },
      "outputs": [],
      "source": [
        "# Importing all necessary libraries\n",
        "import warnings\n",
        "import tensorflow as tf\n",
        "warnings.filterwarnings('ignore')\n",
        "import numpy as np\n",
        "import matplotlib.pyplot as plt\n",
        "import keras\n",
        "\n",
        "from keras.preprocessing.image import ImageDataGenerator\n",
        "from keras.models import Sequential\n",
        "from keras.layers import Activation,Dropout,Flatten,Dense,MaxPool2D\n",
        "from keras import backend as K\n",
        "from keras.models import Sequential\n",
        "from keras.layers import Dense\n",
        "import seaborn as sns\n",
        "from keras.models import load_model\n",
        "\n",
        "import keras\n",
        "\n",
        "from keras.models import Model\n",
        "from keras.layers import Dense, Dropout, Activation, BatchNormalization, Flatten\n",
        "from keras.callbacks import ModelCheckpoint, ReduceLROnPlateau\n",
        "from keras.layers import Conv2D, MaxPooling2D\n",
        "\n",
        "from keras.utils.np_utils import to_categorical\n",
        "import pandas as pd\n",
        "from sklearn.metrics import roc_curve, auc, confusion_matrix\n",
        "from sklearn.metrics import accuracy_score\n",
        "from sklearn.metrics import precision_score\n",
        "from sklearn.metrics import recall_score\n",
        "from sklearn.metrics import f1_score"
      ]
    },
    {
      "cell_type": "code",
      "execution_count": null,
      "metadata": {
        "id": "69lNK_jhrppU"
      },
      "outputs": [],
      "source": [
        "from keras.preprocessing.image import load_img\n",
        "import glob\n",
        "data=[]\n",
        "labels=[]\n",
        "bkl= glob.glob('/content/drive/MyDrive/train_test/train/bkl/*.jpg')\n",
        "mel= glob.glob('/content/drive/MyDrive/train_test/train/mel/*.jpg')\n",
        "nv= glob.glob('/content/drive/MyDrive/train_test/train/nv/*.jpg')\n",
        "\n",
        "for i in bkl:\n",
        "  image=load_img(i, target_size= (224,224)) \n",
        "  image=np.asarray(image)\n",
        "  data.append(image)\n",
        "  labels.append(0)\n"
      ]
    },
    {
      "cell_type": "code",
      "source": [
        "for i in mel:\n",
        "  image=load_img(i, target_size= (224,224)) \n",
        "  image=np.asarray(image)\n",
        "  data.append(image)\n",
        "  labels.append(1)\n",
        "for i in nv:\n",
        "  image=load_img(i, target_size= (224,224)) \n",
        "  image=np.asarray(image)\n",
        "  data.append(image)\n",
        "  labels.append(2)\n",
        "\n"
      ],
      "metadata": {
        "id": "XS9reWrHO4Bv"
      },
      "execution_count": null,
      "outputs": []
    },
    {
      "cell_type": "code",
      "source": [
        "\n",
        "\n",
        "bkl1= glob.glob('/content/drive/MyDrive/train_test/test/bkl/*.jpg')\n",
        "mel1= glob.glob('/content/drive/MyDrive/train_test/test/mel/*.jpg')\n",
        "nv1= glob.glob('/content/drive/MyDrive/train_test/test/nv/*.jpg')\n",
        "\n",
        "for i in bkl1:\n",
        "  image=load_img(i, target_size= (224,224)) \n",
        "  image=np.asarray(image)\n",
        "  data.append(image)\n",
        "  labels.append(0)"
      ],
      "metadata": {
        "id": "0gYFq80HRepS"
      },
      "execution_count": null,
      "outputs": []
    },
    {
      "cell_type": "code",
      "source": [
        "for i in mel1:\n",
        "  image=load_img(i, target_size= (224,224)) \n",
        "  image=np.asarray(image)\n",
        "  data.append(image)\n",
        "  labels.append(1)\n",
        "for i in nv1:\n",
        "  image=load_img(i, target_size= (224,224)) \n",
        "  image=np.asarray(image)\n",
        "  data.append(image)\n",
        "  labels.append(2)"
      ],
      "metadata": {
        "id": "0I86HR8IRXAU"
      },
      "execution_count": null,
      "outputs": []
    },
    {
      "cell_type": "code",
      "source": [
        "df=pd.DataFrame({'data':data,'labels':labels})\n",
        "df2 = df.sample(frac = 1)\n",
        "data1=np.asarray(df2.iloc[:,0].tolist())\n",
        "labels1=np.asarray(df2.iloc[:,1].tolist())"
      ],
      "metadata": {
        "id": "X0h42VIbSkis"
      },
      "execution_count": null,
      "outputs": []
    },
    {
      "cell_type": "code",
      "source": [
        "\n",
        "#data = np.asarray(data)\n",
        "#labels = np.asarray(labels)"
      ],
      "metadata": {
        "id": "unUHCNQJ-FAq"
      },
      "execution_count": null,
      "outputs": []
    },
    {
      "cell_type": "code",
      "source": [
        "from keras.utils.np_utils import to_categorical\n",
        "#y_test=data1\n",
        "cat_labels = to_categorical(labels1, num_classes=3)\n",
        "data1=data1/255\n",
        "from sklearn.model_selection import train_test_split\n",
        "x_train,x_test,y_train,y_test=train_test_split(data1, cat_labels, test_size=0.25, random_state=250)\n",
        "x_train.shape\n"
      ],
      "metadata": {
        "colab": {
          "base_uri": "https://localhost:8080/"
        },
        "id": "fqZ7h_W8TCvV",
        "outputId": "b6fdc2f1-efa9-4ac1-b91b-956c41efb9ca"
      },
      "execution_count": null,
      "outputs": [
        {
          "output_type": "execute_result",
          "data": {
            "text/plain": [
              "(3375, 224, 224, 3)"
            ]
          },
          "metadata": {},
          "execution_count": 8
        }
      ]
    },
    {
      "cell_type": "code",
      "source": [
        "y_test.shape"
      ],
      "metadata": {
        "colab": {
          "base_uri": "https://localhost:8080/"
        },
        "id": "ITdBIRoGevou",
        "outputId": "6bb39ae8-7ae5-47cc-ac34-bac88f6b4f4a"
      },
      "execution_count": null,
      "outputs": [
        {
          "output_type": "execute_result",
          "data": {
            "text/plain": [
              "(1125, 3)"
            ]
          },
          "metadata": {},
          "execution_count": 11
        }
      ]
    },
    {
      "cell_type": "code",
      "execution_count": null,
      "metadata": {
        "id": "aBkra_83s90R"
      },
      "outputs": [],
      "source": [
        "\n",
        "from tensorflow.keras.applications import EfficientNetB0\n",
        "from tensorflow import keras\n",
        "from tensorflow.keras import layers\n",
        "from tensorflow.keras.models import Sequential\n",
        "img_augmentation = Sequential(\n",
        "    [\n",
        "        layers.RandomRotation(factor=0.15),\n",
        "        layers.RandomTranslation(height_factor=0.1, width_factor=0.1),\n",
        "        layers.RandomFlip(),\n",
        "        layers.RandomContrast(factor=0.1),\n",
        "    ],\n",
        "    name=\"img_augmentation\",\n",
        ")\n",
        "\n",
        "inputs = layers.Input(shape=(224, 224, 3))\n",
        "x = img_augmentation(inputs)\n",
        "outputs = EfficientNetB0(include_top=True, weights=None, classes=3)(x)\n",
        "\n",
        "model = tf.keras.Model(inputs, outputs)\n",
        "model.compile(optimizer=\"adam\", loss=\"categorical_crossentropy\", metrics=[\"accuracy\"])"
      ]
    },
    {
      "cell_type": "code",
      "source": [
        "batch_size = 15\n",
        "epochs =30\n",
        "\n",
        "history = model.fit(\n",
        "    x_train,y_train,\n",
        "    epochs=epochs,\n",
        "    batch_size = batch_size,\n",
        "    validation_data=(x_test,y_test),\n",
        "    verbose=2)"
      ],
      "metadata": {
        "colab": {
          "base_uri": "https://localhost:8080/"
        },
        "id": "9xZuu6BYo9S4",
        "outputId": "6645caeb-836a-4ca0-9cff-ea151682e597"
      },
      "execution_count": null,
      "outputs": [
        {
          "output_type": "stream",
          "name": "stdout",
          "text": [
            "Epoch 1/30\n",
            "225/225 - 48s - loss: 2.4110 - accuracy: 0.4480 - val_loss: 1.7303 - val_accuracy: 0.3636 - 48s/epoch - 211ms/step\n",
            "Epoch 2/30\n",
            "225/225 - 28s - loss: 1.1422 - accuracy: 0.5307 - val_loss: 1.1879 - val_accuracy: 0.3636 - 28s/epoch - 123ms/step\n",
            "Epoch 3/30\n",
            "225/225 - 28s - loss: 0.9935 - accuracy: 0.5742 - val_loss: 1.4213 - val_accuracy: 0.3716 - 28s/epoch - 123ms/step\n",
            "Epoch 4/30\n",
            "225/225 - 28s - loss: 0.9403 - accuracy: 0.6181 - val_loss: 4.6615 - val_accuracy: 0.4889 - 28s/epoch - 123ms/step\n",
            "Epoch 5/30\n",
            "225/225 - 28s - loss: 0.9513 - accuracy: 0.6041 - val_loss: 0.9629 - val_accuracy: 0.5733 - 28s/epoch - 123ms/step\n",
            "Epoch 6/30\n",
            "225/225 - 28s - loss: 0.8927 - accuracy: 0.6391 - val_loss: 12.5906 - val_accuracy: 0.4649 - 28s/epoch - 123ms/step\n",
            "Epoch 7/30\n",
            "225/225 - 28s - loss: 0.8489 - accuracy: 0.6427 - val_loss: 3.6500 - val_accuracy: 0.6489 - 28s/epoch - 123ms/step\n",
            "Epoch 8/30\n",
            "225/225 - 28s - loss: 0.8642 - accuracy: 0.6344 - val_loss: 0.7495 - val_accuracy: 0.6667 - 28s/epoch - 123ms/step\n",
            "Epoch 9/30\n",
            "225/225 - 28s - loss: 0.8389 - accuracy: 0.6459 - val_loss: 1.0613 - val_accuracy: 0.5893 - 28s/epoch - 123ms/step\n",
            "Epoch 10/30\n",
            "225/225 - 28s - loss: 0.8308 - accuracy: 0.6492 - val_loss: 0.7659 - val_accuracy: 0.6560 - 28s/epoch - 123ms/step\n",
            "Epoch 11/30\n",
            "225/225 - 28s - loss: 0.7963 - accuracy: 0.6699 - val_loss: 0.7107 - val_accuracy: 0.7031 - 28s/epoch - 123ms/step\n",
            "Epoch 12/30\n",
            "225/225 - 28s - loss: 0.8120 - accuracy: 0.6566 - val_loss: 0.7413 - val_accuracy: 0.6898 - 28s/epoch - 123ms/step\n",
            "Epoch 13/30\n",
            "225/225 - 28s - loss: 0.7807 - accuracy: 0.6720 - val_loss: 0.7489 - val_accuracy: 0.6809 - 28s/epoch - 123ms/step\n",
            "Epoch 14/30\n",
            "225/225 - 28s - loss: 0.7820 - accuracy: 0.6779 - val_loss: 0.6925 - val_accuracy: 0.7067 - 28s/epoch - 123ms/step\n",
            "Epoch 15/30\n",
            "225/225 - 28s - loss: 0.7429 - accuracy: 0.6859 - val_loss: 0.8271 - val_accuracy: 0.6249 - 28s/epoch - 123ms/step\n",
            "Epoch 16/30\n",
            "225/225 - 28s - loss: 0.7629 - accuracy: 0.6643 - val_loss: 0.7408 - val_accuracy: 0.6764 - 28s/epoch - 123ms/step\n",
            "Epoch 17/30\n",
            "225/225 - 28s - loss: 0.7338 - accuracy: 0.6919 - val_loss: 0.7962 - val_accuracy: 0.6747 - 28s/epoch - 123ms/step\n",
            "Epoch 18/30\n",
            "225/225 - 28s - loss: 0.7615 - accuracy: 0.6747 - val_loss: 1.0145 - val_accuracy: 0.5298 - 28s/epoch - 123ms/step\n",
            "Epoch 19/30\n",
            "225/225 - 28s - loss: 0.7865 - accuracy: 0.6637 - val_loss: 1.7389 - val_accuracy: 0.5662 - 28s/epoch - 123ms/step\n",
            "Epoch 20/30\n",
            "225/225 - 28s - loss: 0.7412 - accuracy: 0.6812 - val_loss: 0.8259 - val_accuracy: 0.6356 - 28s/epoch - 123ms/step\n",
            "Epoch 21/30\n",
            "225/225 - 28s - loss: 0.7274 - accuracy: 0.6892 - val_loss: 0.7301 - val_accuracy: 0.6702 - 28s/epoch - 123ms/step\n",
            "Epoch 22/30\n",
            "225/225 - 28s - loss: 0.7351 - accuracy: 0.6821 - val_loss: 0.7811 - val_accuracy: 0.6444 - 28s/epoch - 123ms/step\n",
            "Epoch 23/30\n",
            "225/225 - 28s - loss: 0.7416 - accuracy: 0.6874 - val_loss: 0.8337 - val_accuracy: 0.6587 - 28s/epoch - 123ms/step\n",
            "Epoch 24/30\n",
            "225/225 - 28s - loss: 0.7594 - accuracy: 0.6711 - val_loss: 1.5933 - val_accuracy: 0.5484 - 28s/epoch - 123ms/step\n",
            "Epoch 25/30\n",
            "225/225 - 27s - loss: 0.7536 - accuracy: 0.6856 - val_loss: 0.7460 - val_accuracy: 0.6658 - 27s/epoch - 121ms/step\n",
            "Epoch 26/30\n",
            "225/225 - 28s - loss: 0.7338 - accuracy: 0.6916 - val_loss: 0.8150 - val_accuracy: 0.6978 - 28s/epoch - 123ms/step\n",
            "Epoch 27/30\n",
            "225/225 - 28s - loss: 0.7689 - accuracy: 0.6806 - val_loss: 0.8198 - val_accuracy: 0.6516 - 28s/epoch - 123ms/step\n",
            "Epoch 28/30\n",
            "225/225 - 28s - loss: 0.7381 - accuracy: 0.6883 - val_loss: 1.0234 - val_accuracy: 0.5369 - 28s/epoch - 123ms/step\n",
            "Epoch 29/30\n",
            "225/225 - 28s - loss: 0.7211 - accuracy: 0.6963 - val_loss: 0.6209 - val_accuracy: 0.7369 - 28s/epoch - 123ms/step\n",
            "Epoch 30/30\n",
            "225/225 - 28s - loss: 0.7308 - accuracy: 0.6921 - val_loss: 0.6736 - val_accuracy: 0.6969 - 28s/epoch - 123ms/step\n"
          ]
        }
      ]
    },
    {
      "cell_type": "code",
      "source": [
        "model.save('model_3_class.h5')\n",
        "\n",
        "model1=load_model('model_3_class.h5')"
      ],
      "metadata": {
        "id": "M5_2fHoim2um"
      },
      "execution_count": null,
      "outputs": []
    },
    {
      "cell_type": "code",
      "source": [
        "from keras.callbacks import ModelCheckpoint\n",
        "filepath=\"/content/path/weights-improvement-{epoch:02d}-{val_accuracy:.2f}.hdf5\" #File name includes epoch and validation accuracy.\n",
        "#Use Mode = max for accuracy and min for loss. \n",
        "checkpoint = ModelCheckpoint(filepath, monitor='val_accuracy', verbose=1, save_best_only=True, mode='max')\n",
        "call_backs=[checkpoint]"
      ],
      "metadata": {
        "id": "6NS_BA6zNwAb"
      },
      "execution_count": null,
      "outputs": []
    },
    {
      "cell_type": "code",
      "source": [
        "hist=model1.fit(x_train,y_train,batch_size=50,epochs=30,validation_data=(x_test,y_test),verbose=2,callbacks=call_backs)"
      ],
      "metadata": {
        "colab": {
          "base_uri": "https://localhost:8080/"
        },
        "id": "BIbmxpBe2aEF",
        "outputId": "9dbd151f-4ba6-4a29-d30b-1f965ef422a1"
      },
      "execution_count": null,
      "outputs": [
        {
          "output_type": "stream",
          "name": "stdout",
          "text": [
            "Epoch 1/30\n",
            "\n",
            "Epoch 1: val_accuracy improved from -inf to 0.83556, saving model to /content/path/weights-improvement-01-0.84.hdf5\n",
            "68/68 - 25s - loss: 0.3794 - accuracy: 0.8397 - val_loss: 0.3968 - val_accuracy: 0.8356 - 25s/epoch - 371ms/step\n",
            "Epoch 2/30\n",
            "\n",
            "Epoch 2: val_accuracy did not improve from 0.83556\n",
            "68/68 - 24s - loss: 0.3654 - accuracy: 0.8519 - val_loss: 0.4655 - val_accuracy: 0.8231 - 24s/epoch - 356ms/step\n",
            "Epoch 3/30\n",
            "\n",
            "Epoch 3: val_accuracy did not improve from 0.83556\n",
            "68/68 - 24s - loss: 0.3639 - accuracy: 0.8527 - val_loss: 0.4526 - val_accuracy: 0.8338 - 24s/epoch - 355ms/step\n",
            "Epoch 4/30\n",
            "\n",
            "Epoch 4: val_accuracy did not improve from 0.83556\n",
            "68/68 - 24s - loss: 0.3501 - accuracy: 0.8569 - val_loss: 0.4665 - val_accuracy: 0.8169 - 24s/epoch - 354ms/step\n",
            "Epoch 5/30\n",
            "\n",
            "Epoch 5: val_accuracy did not improve from 0.83556\n",
            "68/68 - 24s - loss: 0.3595 - accuracy: 0.8542 - val_loss: 0.5019 - val_accuracy: 0.8151 - 24s/epoch - 356ms/step\n",
            "Epoch 6/30\n",
            "\n",
            "Epoch 6: val_accuracy did not improve from 0.83556\n",
            "68/68 - 24s - loss: 0.3593 - accuracy: 0.8527 - val_loss: 0.4690 - val_accuracy: 0.8053 - 24s/epoch - 354ms/step\n",
            "Epoch 7/30\n",
            "\n",
            "Epoch 7: val_accuracy did not improve from 0.83556\n",
            "68/68 - 24s - loss: 0.3459 - accuracy: 0.8566 - val_loss: 0.4411 - val_accuracy: 0.8347 - 24s/epoch - 354ms/step\n",
            "Epoch 8/30\n",
            "\n",
            "Epoch 8: val_accuracy did not improve from 0.83556\n",
            "68/68 - 24s - loss: 0.3427 - accuracy: 0.8631 - val_loss: 0.5371 - val_accuracy: 0.7902 - 24s/epoch - 353ms/step\n",
            "Epoch 9/30\n",
            "\n",
            "Epoch 9: val_accuracy did not improve from 0.83556\n",
            "68/68 - 24s - loss: 0.3395 - accuracy: 0.8625 - val_loss: 0.4468 - val_accuracy: 0.8329 - 24s/epoch - 353ms/step\n",
            "Epoch 10/30\n",
            "\n",
            "Epoch 10: val_accuracy did not improve from 0.83556\n",
            "68/68 - 24s - loss: 0.3287 - accuracy: 0.8732 - val_loss: 0.5074 - val_accuracy: 0.7947 - 24s/epoch - 354ms/step\n",
            "Epoch 11/30\n",
            "\n",
            "Epoch 11: val_accuracy did not improve from 0.83556\n",
            "68/68 - 24s - loss: 0.3409 - accuracy: 0.8646 - val_loss: 0.5221 - val_accuracy: 0.7982 - 24s/epoch - 355ms/step\n",
            "Epoch 12/30\n",
            "\n",
            "Epoch 12: val_accuracy did not improve from 0.83556\n",
            "68/68 - 24s - loss: 0.3318 - accuracy: 0.8619 - val_loss: 0.4580 - val_accuracy: 0.8222 - 24s/epoch - 353ms/step\n",
            "Epoch 13/30\n",
            "\n",
            "Epoch 13: val_accuracy did not improve from 0.83556\n",
            "68/68 - 24s - loss: 0.3236 - accuracy: 0.8619 - val_loss: 0.4315 - val_accuracy: 0.8338 - 24s/epoch - 354ms/step\n",
            "Epoch 14/30\n",
            "\n",
            "Epoch 14: val_accuracy did not improve from 0.83556\n",
            "68/68 - 24s - loss: 0.3233 - accuracy: 0.8676 - val_loss: 0.6595 - val_accuracy: 0.7529 - 24s/epoch - 354ms/step\n",
            "Epoch 15/30\n",
            "\n",
            "Epoch 15: val_accuracy did not improve from 0.83556\n",
            "68/68 - 24s - loss: 0.3302 - accuracy: 0.8681 - val_loss: 0.4589 - val_accuracy: 0.8124 - 24s/epoch - 353ms/step\n",
            "Epoch 16/30\n",
            "\n",
            "Epoch 16: val_accuracy did not improve from 0.83556\n",
            "68/68 - 24s - loss: 0.3075 - accuracy: 0.8764 - val_loss: 0.5919 - val_accuracy: 0.7947 - 24s/epoch - 353ms/step\n",
            "Epoch 17/30\n",
            "\n",
            "Epoch 17: val_accuracy did not improve from 0.83556\n",
            "68/68 - 24s - loss: 0.3082 - accuracy: 0.8800 - val_loss: 0.4904 - val_accuracy: 0.8169 - 24s/epoch - 353ms/step\n",
            "Epoch 18/30\n",
            "\n",
            "Epoch 18: val_accuracy did not improve from 0.83556\n",
            "68/68 - 24s - loss: 0.3082 - accuracy: 0.8759 - val_loss: 0.5083 - val_accuracy: 0.8080 - 24s/epoch - 354ms/step\n",
            "Epoch 19/30\n",
            "\n",
            "Epoch 19: val_accuracy did not improve from 0.83556\n",
            "68/68 - 24s - loss: 0.2838 - accuracy: 0.8907 - val_loss: 0.4732 - val_accuracy: 0.8311 - 24s/epoch - 354ms/step\n",
            "Epoch 20/30\n",
            "\n",
            "Epoch 20: val_accuracy did not improve from 0.83556\n",
            "68/68 - 24s - loss: 0.2958 - accuracy: 0.8773 - val_loss: 0.4583 - val_accuracy: 0.8080 - 24s/epoch - 354ms/step\n",
            "Epoch 21/30\n",
            "\n",
            "Epoch 21: val_accuracy did not improve from 0.83556\n",
            "68/68 - 24s - loss: 0.2843 - accuracy: 0.8898 - val_loss: 0.6742 - val_accuracy: 0.7787 - 24s/epoch - 355ms/step\n",
            "Epoch 22/30\n",
            "\n",
            "Epoch 22: val_accuracy did not improve from 0.83556\n",
            "68/68 - 24s - loss: 0.2755 - accuracy: 0.8904 - val_loss: 0.4859 - val_accuracy: 0.8347 - 24s/epoch - 352ms/step\n",
            "Epoch 23/30\n",
            "\n",
            "Epoch 23: val_accuracy did not improve from 0.83556\n",
            "68/68 - 24s - loss: 0.2723 - accuracy: 0.8880 - val_loss: 0.7169 - val_accuracy: 0.7564 - 24s/epoch - 353ms/step\n",
            "Epoch 24/30\n",
            "\n",
            "Epoch 24: val_accuracy did not improve from 0.83556\n",
            "68/68 - 24s - loss: 0.2666 - accuracy: 0.8945 - val_loss: 0.4361 - val_accuracy: 0.8347 - 24s/epoch - 353ms/step\n",
            "Epoch 25/30\n",
            "\n",
            "Epoch 25: val_accuracy did not improve from 0.83556\n",
            "68/68 - 24s - loss: 0.2784 - accuracy: 0.8910 - val_loss: 0.5760 - val_accuracy: 0.8044 - 24s/epoch - 354ms/step\n",
            "Epoch 26/30\n",
            "\n",
            "Epoch 26: val_accuracy did not improve from 0.83556\n",
            "68/68 - 24s - loss: 0.2598 - accuracy: 0.8939 - val_loss: 0.6473 - val_accuracy: 0.7733 - 24s/epoch - 354ms/step\n",
            "Epoch 27/30\n",
            "\n",
            "Epoch 27: val_accuracy did not improve from 0.83556\n",
            "68/68 - 24s - loss: 0.2671 - accuracy: 0.8963 - val_loss: 0.5948 - val_accuracy: 0.8107 - 24s/epoch - 354ms/step\n",
            "Epoch 28/30\n",
            "\n",
            "Epoch 28: val_accuracy did not improve from 0.83556\n",
            "68/68 - 24s - loss: 0.2708 - accuracy: 0.9004 - val_loss: 0.5005 - val_accuracy: 0.8311 - 24s/epoch - 352ms/step\n",
            "Epoch 29/30\n",
            "\n",
            "Epoch 29: val_accuracy did not improve from 0.83556\n",
            "68/68 - 24s - loss: 0.2534 - accuracy: 0.9010 - val_loss: 0.7460 - val_accuracy: 0.7520 - 24s/epoch - 353ms/step\n",
            "Epoch 30/30\n",
            "\n",
            "Epoch 30: val_accuracy did not improve from 0.83556\n",
            "68/68 - 24s - loss: 0.2631 - accuracy: 0.8978 - val_loss: 0.5710 - val_accuracy: 0.7947 - 24s/epoch - 355ms/step\n"
          ]
        }
      ]
    },
    {
      "cell_type": "code",
      "source": [
        "\n",
        "model1=load_model('84_3_class.h5')\n",
        "score = model1.evaluate(x_test, y_test)\n",
        "print('Test accuracy:', score[1])"
      ],
      "metadata": {
        "colab": {
          "base_uri": "https://localhost:8080/"
        },
        "id": "aoByGRCra2DN",
        "outputId": "2d1507c2-243c-4ba0-bcb4-d24491340869"
      },
      "execution_count": null,
      "outputs": [
        {
          "output_type": "stream",
          "name": "stdout",
          "text": [
            "36/36 [==============================] - 13s 46ms/step - loss: 0.3499 - accuracy: 0.8587\n",
            "Test accuracy: 0.8586666584014893\n"
          ]
        }
      ]
    },
    {
      "cell_type": "code",
      "source": [
        "\n",
        "y_pred=model1.predict(x_test)\n",
        "y_pred"
      ],
      "metadata": {
        "colab": {
          "base_uri": "https://localhost:8080/"
        },
        "id": "xtj7DXGcaOD-",
        "outputId": "5cc29e61-e1b0-4625-ce09-c4e77b279ac8"
      },
      "execution_count": null,
      "outputs": [
        {
          "output_type": "execute_result",
          "data": {
            "text/plain": [
              "array([[8.69826555e-01, 1.25761896e-01, 4.41152742e-03],\n",
              "       [2.98226660e-05, 9.96126473e-01, 3.84374755e-03],\n",
              "       [2.90872883e-02, 9.59830225e-01, 1.10824844e-02],\n",
              "       ...,\n",
              "       [2.24972181e-02, 6.95107877e-01, 2.82394916e-01],\n",
              "       [1.29532740e-01, 8.18003297e-01, 5.24639376e-02],\n",
              "       [5.96509203e-02, 9.25490797e-01, 1.48583045e-02]], dtype=float32)"
            ]
          },
          "metadata": {},
          "execution_count": 10
        }
      ]
    },
    {
      "cell_type": "code",
      "source": [
        "acc = hist.history['accuracy']\n",
        "val_acc = hist.history['val_accuracy']\n",
        "loss = hist.history['loss']\n",
        "val_loss = hist.history['val_loss']"
      ],
      "metadata": {
        "id": "59oKFP08YUg2"
      },
      "execution_count": null,
      "outputs": []
    },
    {
      "cell_type": "code",
      "source": [
        "epochs = range(len(acc))\n",
        "\n",
        "plt.plot(epochs, acc, 'r', label='Training accuracy')\n",
        "plt.plot(epochs, val_acc, 'b', label='Validation accuracy')\n",
        "plt.title('Training and validation accuracy')\n",
        "plt.legend(loc=0)\n",
        "plt.figure(figsize=(6,6))"
      ],
      "metadata": {
        "colab": {
          "base_uri": "https://localhost:8080/",
          "height": 318
        },
        "id": "2gLwmrUOYvFI",
        "outputId": "5aec4d96-53f4-46b8-bdea-f573c6ed7667"
      },
      "execution_count": null,
      "outputs": [
        {
          "output_type": "execute_result",
          "data": {
            "text/plain": [
              "<Figure size 432x432 with 0 Axes>"
            ]
          },
          "metadata": {},
          "execution_count": 15
        },
        {
          "output_type": "display_data",
          "data": {
            "text/plain": [
              "<Figure size 432x288 with 1 Axes>"
            ],
            "image/png": "[encoded data removed]"
          },
          "metadata": {
            "needs_background": "light"
          }
        },
        {
          "output_type": "display_data",
          "data": {
            "text/plain": [
              "<Figure size 432x432 with 0 Axes>"
            ]
          },
          "metadata": {}
        }
      ]
    },
    {
      "cell_type": "code",
      "source": [
        "plt.plot(epochs, loss, 'r', label='Training loss')\n",
        "plt.plot(epochs, val_loss, 'b', label='Validation loss')\n",
        "plt.title('Training and validation loss')\n",
        "plt.legend(loc=0)\n",
        "plt.figure(figsize=(6,6))"
      ],
      "metadata": {
        "colab": {
          "base_uri": "https://localhost:8080/",
          "height": 318
        },
        "id": "FG0GsoEWZKRC",
        "outputId": "30d74621-199e-4fea-ca1e-36da39f02eaf"
      },
      "execution_count": null,
      "outputs": [
        {
          "output_type": "execute_result",
          "data": {
            "text/plain": [
              "<Figure size 432x432 with 0 Axes>"
            ]
          },
          "metadata": {},
          "execution_count": 16
        },
        {
          "output_type": "display_data",
          "data": {
            "text/plain": [
              "<Figure size 432x288 with 1 Axes>"
            ],
            "image/png": "[encoded data removed]"
          },
          "metadata": {
            "needs_background": "light"
          }
        },
        {
          "output_type": "display_data",
          "data": {
            "text/plain": [
              "<Figure size 432x432 with 0 Axes>"
            ]
          },
          "metadata": {}
        }
      ]
    },
    {
      "cell_type": "code",
      "source": [
        "Y_pred_classes = np.argmax(y_pred,axis = 1) \n",
        "Y_pred_classes"
      ],
      "metadata": {
        "colab": {
          "base_uri": "https://localhost:8080/"
        },
        "id": "m4DsoRp6cpJu",
        "outputId": "112841c5-c6eb-48dc-a304-1b272f90c22e"
      },
      "execution_count": null,
      "outputs": [
        {
          "output_type": "execute_result",
          "data": {
            "text/plain": [
              "array([0, 1, 1, ..., 1, 1, 1])"
            ]
          },
          "metadata": {},
          "execution_count": 11
        }
      ]
    },
    {
      "cell_type": "code",
      "source": [
        "v_test=np.argmax(y_test,axis = 1)\n",
        "v_test"
      ],
      "metadata": {
        "id": "RT_aquNH_SVc",
        "colab": {
          "base_uri": "https://localhost:8080/"
        },
        "outputId": "7c231d49-5acc-4a06-9965-536ed467f2f7"
      },
      "execution_count": null,
      "outputs": [
        {
          "output_type": "execute_result",
          "data": {
            "text/plain": [
              "array([0, 1, 1, ..., 1, 1, 1])"
            ]
          },
          "metadata": {},
          "execution_count": 12
        }
      ]
    },
    {
      "cell_type": "code",
      "source": [
        "confusion_matrix(v_test,Y_pred_classes )"
      ],
      "metadata": {
        "colab": {
          "base_uri": "https://localhost:8080/"
        },
        "id": "gZXbQ9zwalCN",
        "outputId": "c03aadbc-7289-4102-82c5-30abc994846d"
      },
      "execution_count": null,
      "outputs": [
        {
          "output_type": "execute_result",
          "data": {
            "text/plain": [
              "array([[316,  34,  18],\n",
              "       [ 29, 319,  39],\n",
              "       [ 15,  24, 331]])"
            ]
          },
          "metadata": {},
          "execution_count": 13
        }
      ]
    },
    {
      "cell_type": "code",
      "source": [
        "class_names = [\"Benign keratosis\", \"Melanoma\",'Melanocytic Nevi']\n",
        "def plot_confusion_matrix(y_test, y_pred):\n",
        "  cmn = confusion_matrix(y_test, y_pred)\n",
        "  # Normalise\n",
        "  cmn = cmn.astype('float') / cmn.sum(axis=1)[:, np.newaxis]\n",
        "  # print it\n",
        "  print(cmn)\n",
        "  fig, ax = plt.subplots(figsize=(10,10))\n",
        "  sns.heatmap(cmn, annot=True, fmt='.2f', \n",
        "              xticklabels=[f\"pred_{c}\" for c in class_names], \n",
        "              yticklabels=[f\"true_{c}\" for c in class_names],\n",
        "              cmap=\"Blues\"\n",
        "              )\n",
        "  plt.ylabel('Actual')\n",
        "  plt.xlabel('Predicted')\n",
        "  plt.show()\n",
        "plot_confusion_matrix(v_test,Y_pred_classes)"
      ],
      "metadata": {
        "colab": {
          "base_uri": "https://localhost:8080/",
          "height": 661
        },
        "id": "jGTtpTaiuwNc",
        "outputId": "8ec95b7a-5c8e-4462-fe7e-7e6a8ed88dcd"
      },
      "execution_count": null,
      "outputs": [
        {
          "output_type": "stream",
          "name": "stdout",
          "text": [
            "[[0.85869565 0.0923913  0.04891304]\n",
            " [0.0749354  0.82428941 0.10077519]\n",
            " [0.04054054 0.06486486 0.89459459]]\n"
          ]
        },
        {
          "output_type": "display_data",
          "data": {
            "text/plain": [
              "<Figure size 720x720 with 2 Axes>"
            ],
            "image/png": "[encoded data removed]"
          },
          "metadata": {
            "needs_background": "light"
          }
        }
      ]
    },
    {
      "cell_type": "code",
      "source": [
        "# accuracy: (tp + tn) / (p + n)\n",
        "accuracy = accuracy_score(v_test,Y_pred_classes)\n",
        "print('Accuracy: %f' % accuracy)\n",
        "# precision tp / (tp + fp)\n",
        "precision = precision_score(v_test,Y_pred_classes,average='weighted')\n",
        "print('Precision: %f' % precision)\n",
        "# recall: tp / (tp + fn)\n",
        "recall = recall_score(v_test,Y_pred_classes,average='weighted')\n",
        "print('Recall: %f' % recall)\n",
        "# f1: 2 tp / (2 tp + fp + fn)\n",
        "f1 = f1_score(v_test,Y_pred_classes,average='weighted')\n",
        "print('F1 score: %f' % f1)\n",
        " "
      ],
      "metadata": {
        "colab": {
          "base_uri": "https://localhost:8080/"
        },
        "id": "pLHJeavbY5Ww",
        "outputId": "cbf96228-a013-47ef-8e0b-74b530f72de4"
      },
      "execution_count": null,
      "outputs": [
        {
          "output_type": "stream",
          "name": "stdout",
          "text": [
            "Accuracy: 0.858667\n",
            "Precision: 0.858781\n",
            "Recall: 0.858667\n",
            "F1 score: 0.858478\n"
          ]
        }
      ]
    },
    {
      "cell_type": "code",
      "source": [],
      "metadata": {
        "colab": {
          "base_uri": "https://localhost:8080/"
        },
        "id": "qdSf6Lm93hKR",
        "outputId": "b2afd08a-57fb-405d-d7fe-1fc92f671911"
      },
      "execution_count": null,
      "outputs": [
        {
          "output_type": "execute_result",
          "data": {
            "text/plain": [
              "array([[0., 0., 1.],\n",
              "       [1., 0., 0.],\n",
              "       [0., 1., 0.],\n",
              "       ...,\n",
              "       [0., 0., 1.],\n",
              "       [0., 0., 1.],\n",
              "       [0., 0., 1.]], dtype=float32)"
            ]
          },
          "metadata": {},
          "execution_count": 29
        }
      ]
    },
    {
      "cell_type": "markdown",
      "source": [],
      "metadata": {
        "id": "tcPP5seN3sBy"
      }
    },
    {
      "cell_type": "code",
      "source": [],
      "metadata": {
        "colab": {
          "base_uri": "https://localhost:8080/"
        },
        "id": "aaxP01Ws3sYD",
        "outputId": "b5fe4769-c7a9-459d-85a1-3ca0498fa865"
      },
      "execution_count": null,
      "outputs": [
        {
          "output_type": "execute_result",
          "data": {
            "text/plain": [
              "array([2, 0, 1, ..., 2, 2, 2])"
            ]
          },
          "metadata": {},
          "execution_count": 31
        }
      ]
    }
  ],
  "metadata": {
    "accelerator": "GPU",
    "colab": {
      "collapsed_sections": [],
      "provenance": [],
      "machine_shape": "hm"
    },
    "gpuClass": "standard",
    "kernelspec": {
      "display_name": "Python 3",
      "name": "python3"
    },
    "language_info": {
      "name": "python"
    }
  },
  "nbformat": 4,
  "nbformat_minor": 0
}